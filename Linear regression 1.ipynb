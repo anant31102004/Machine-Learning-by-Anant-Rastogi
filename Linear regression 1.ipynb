{
 "cells": [
  {
   "cell_type": "code",
   "execution_count": 79,
   "id": "8de02375-d9e7-4baa-90d8-34c122e93e50",
   "metadata": {},
   "outputs": [],
   "source": [
    "import pandas as pd \n",
    "import numpy as np \n",
    "import matplotlib.pyplot as plt \n",
    "import seaborn as sns\n"
   ]
  },
  {
   "cell_type": "code",
   "execution_count": 80,
   "id": "33ddf011-807a-43ba-a6d9-f97a14ee0c9f",
   "metadata": {},
   "outputs": [
    {
     "data": {
      "text/plain": [
       "0    12\n",
       "1    15\n",
       "2    26\n",
       "Name: Age, dtype: int64"
      ]
     },
     "execution_count": 80,
     "metadata": {},
     "output_type": "execute_result"
    }
   ],
   "source": [
    "an=pd.read_csv('anant.csv')\n",
    "an['Age']"
   ]
  },
  {
   "cell_type": "code",
   "execution_count": 81,
   "id": "1c08d786-a187-4980-b8e5-c1c8c545ce47",
   "metadata": {},
   "outputs": [
    {
     "data": {
      "text/html": [
       "<div>\n",
       "<style scoped>\n",
       "    .dataframe tbody tr th:only-of-type {\n",
       "        vertical-align: middle;\n",
       "    }\n",
       "\n",
       "    .dataframe tbody tr th {\n",
       "        vertical-align: top;\n",
       "    }\n",
       "\n",
       "    .dataframe thead th {\n",
       "        text-align: right;\n",
       "    }\n",
       "</style>\n",
       "<table border=\"1\" class=\"dataframe\">\n",
       "  <thead>\n",
       "    <tr style=\"text-align: right;\">\n",
       "      <th></th>\n",
       "      <th>Age</th>\n",
       "    </tr>\n",
       "  </thead>\n",
       "  <tbody>\n",
       "    <tr>\n",
       "      <th>0</th>\n",
       "      <td>12</td>\n",
       "    </tr>\n",
       "    <tr>\n",
       "      <th>1</th>\n",
       "      <td>15</td>\n",
       "    </tr>\n",
       "    <tr>\n",
       "      <th>2</th>\n",
       "      <td>26</td>\n",
       "    </tr>\n",
       "  </tbody>\n",
       "</table>\n",
       "</div>"
      ],
      "text/plain": [
       "   Age\n",
       "0   12\n",
       "1   15\n",
       "2   26"
      ]
     },
     "execution_count": 81,
     "metadata": {},
     "output_type": "execute_result"
    }
   ],
   "source": [
    "x=pd.DataFrame(an['Age'])\n",
    "x"
   ]
  },
  {
   "cell_type": "code",
   "execution_count": 82,
   "id": "0c7e3b12-bd13-4568-90d3-0517b68c21ab",
   "metadata": {},
   "outputs": [],
   "source": [
    "from sklearn.preprocessing import StandardScaler"
   ]
  },
  {
   "cell_type": "code",
   "execution_count": 83,
   "id": "28127d96-3164-4a3c-84f2-91221f0febb9",
   "metadata": {},
   "outputs": [],
   "source": [
    "scaler=StandardScaler()"
   ]
  },
  {
   "cell_type": "code",
   "execution_count": 84,
   "id": "90fbfcaa-b967-4efd-98f8-62a7265f40f2",
   "metadata": {},
   "outputs": [],
   "source": [
    "x_scaled=scaler.fit_transform(x)"
   ]
  },
  {
   "cell_type": "code",
   "execution_count": 85,
   "id": "b0d312cb-601f-426b-b153-9db1a97ba51a",
   "metadata": {},
   "outputs": [
    {
     "name": "stdout",
     "output_type": "stream",
     "text": [
      "scaled data for 2000 = [-0.94154292]\n",
      "scaled data for 2 = [-0.44307902]\n",
      "scaled data for 100 = [1.38462194]\n"
     ]
    }
   ],
   "source": [
    "print('scaled data for 2000 =',x_scaled[0])\n",
    "print('scaled data for 2 =',x_scaled[1])\n",
    "print('scaled data for 100 =',x_scaled[2])"
   ]
  },
  {
   "cell_type": "markdown",
   "id": "5ee0d19b-8781-445a-838f-abc1750024e0",
   "metadata": {},
   "source": [
    "FORMULA FOR STANDARD SCALER \n",
    "Z=(x-mean)/std"
   ]
  },
  {
   "cell_type": "code",
   "execution_count": 86,
   "id": "d8c2f970-9e88-46af-9a25-949e1346c982",
   "metadata": {},
   "outputs": [
    {
     "name": "stderr",
     "output_type": "stream",
     "text": [
      "C:\\anaconda\\Lib\\site-packages\\numpy\\core\\fromnumeric.py:3643: FutureWarning: The behavior of DataFrame.std with axis=None is deprecated, in a future version this will reduce over both axes and return a scalar. To retain the old behavior, pass axis=0 (or do not pass axis)\n",
      "  return std(axis=axis, dtype=dtype, out=out, ddof=ddof, **kwargs)\n"
     ]
    }
   ],
   "source": [
    "mean=np.mean(x)\n",
    "std=np.std(x)"
   ]
  },
  {
   "cell_type": "code",
   "execution_count": 87,
   "id": "85eb2be7-313e-4f02-b321-7fc99b13d8c2",
   "metadata": {},
   "outputs": [
    {
     "data": {
      "text/plain": [
       "pandas.core.frame.DataFrame"
      ]
     },
     "execution_count": 87,
     "metadata": {},
     "output_type": "execute_result"
    }
   ],
   "source": [
    "type(x)"
   ]
  },
  {
   "cell_type": "code",
   "execution_count": 88,
   "id": "ad2bcb1c-12a2-4e58-a806-9ba0d8d0f170",
   "metadata": {},
   "outputs": [
    {
     "data": {
      "text/plain": [
       "17.666666666666668"
      ]
     },
     "execution_count": 88,
     "metadata": {},
     "output_type": "execute_result"
    }
   ],
   "source": [
    "mean"
   ]
  },
  {
   "cell_type": "code",
   "execution_count": 89,
   "id": "73240517-105a-4fde-85c3-9cbb573da36f",
   "metadata": {},
   "outputs": [
    {
     "data": {
      "text/plain": [
       "Age    6.01849\n",
       "dtype: float64"
      ]
     },
     "execution_count": 89,
     "metadata": {},
     "output_type": "execute_result"
    }
   ],
   "source": [
    "std"
   ]
  },
  {
   "cell_type": "code",
   "execution_count": 90,
   "id": "3c51a123-59f4-4c2f-9526-a4915136a9d7",
   "metadata": {},
   "outputs": [
    {
     "data": {
      "text/plain": [
       "1.4128746332100164"
      ]
     },
     "execution_count": 90,
     "metadata": {},
     "output_type": "execute_result"
    }
   ],
   "source": [
    "(2000-700.666666666666)/919.638093"
   ]
  },
  {
   "cell_type": "code",
   "execution_count": 91,
   "id": "1837a7ff-a33b-46c9-bd55-fa9a9d6d67b9",
   "metadata": {},
   "outputs": [
    {
     "data": {
      "text/plain": [
       "-0.7597191460257037"
      ]
     },
     "execution_count": 91,
     "metadata": {},
     "output_type": "execute_result"
    }
   ],
   "source": [
    "(2-700.6666666666666)/919.638093"
   ]
  },
  {
   "cell_type": "code",
   "execution_count": 92,
   "id": "3981df5f-2a65-4e5c-9abc-7819ce9c7582",
   "metadata": {},
   "outputs": [
    {
     "data": {
      "text/plain": [
       "-0.6531554871843119"
      ]
     },
     "execution_count": 92,
     "metadata": {},
     "output_type": "execute_result"
    }
   ],
   "source": [
    "(100-700.6666666666666)/919.638093"
   ]
  },
  {
   "cell_type": "code",
   "execution_count": 93,
   "id": "de057ef5-b1bd-48bc-8fad-307deceb0338",
   "metadata": {},
   "outputs": [
    {
     "name": "stdout",
     "output_type": "stream",
     "text": [
      "Welcome to Python 3.11's help utility! If this is your first time using\n",
      "Python, you should definitely check out the tutorial at\n",
      "https://docs.python.org/3.11/tutorial/.\n",
      "\n",
      "Enter the name of any module, keyword, or topic to get help on writing\n",
      "Python programs and using Python modules.  To get a list of available\n",
      "modules, keywords, symbols, or topics, enter \"modules\", \"keywords\",\n",
      "\"symbols\", or \"topics\".\n",
      "\n",
      "Each module also comes with a one-line summary of what it does; to list\n",
      "the modules whose name or summary contain a given string such as \"spam\",\n",
      "enter \"modules spam\".\n",
      "\n",
      "To quit this help utility and return to the interpreter,\n",
      "enter \"q\" or \"quit\".\n",
      "\n"
     ]
    },
    {
     "name": "stdin",
     "output_type": "stream",
     "text": [
      "help>  q\n"
     ]
    },
    {
     "name": "stdout",
     "output_type": "stream",
     "text": [
      "\n",
      "You are now leaving help and returning to the Python interpreter.\n",
      "If you want to ask for help on a particular object directly from the\n",
      "interpreter, you can type \"help(object)\".  Executing \"help('string')\"\n",
      "has the same effect as typing a particular string at the help> prompt.\n"
     ]
    }
   ],
   "source": [
    "help()"
   ]
  },
  {
   "cell_type": "code",
   "execution_count": 94,
   "id": "edaa5962-5597-4c5b-9e9d-a20d9cfde141",
   "metadata": {},
   "outputs": [
    {
     "data": {
      "text/plain": [
       "<bound method NDFrame.describe of    stud_id    Name  Age\n",
       "0        1   Smith   12\n",
       "1        2  andrew   15\n",
       "2        3    Jack   26>"
      ]
     },
     "execution_count": 94,
     "metadata": {},
     "output_type": "execute_result"
    }
   ],
   "source": [
    "an.describe"
   ]
  },
  {
   "cell_type": "code",
   "execution_count": 95,
   "id": "7ac37631-7e3a-4a78-a8fd-0d831f833cec",
   "metadata": {},
   "outputs": [
    {
     "data": {
      "text/plain": [
       "<bound method Series.corr of 0    12\n",
       "1    15\n",
       "2    26\n",
       "Name: Age, dtype: int64>"
      ]
     },
     "execution_count": 95,
     "metadata": {},
     "output_type": "execute_result"
    }
   ],
   "source": [
    "an['Age'].corr"
   ]
  },
  {
   "cell_type": "markdown",
   "id": "5e19d164-d25e-47ef-bdb7-0909b580c142",
   "metadata": {},
   "source": [
    "TRAIN AND TEST SPLIT"
   ]
  },
  {
   "cell_type": "code",
   "execution_count": 96,
   "id": "eaece74e-b88e-4454-b589-06608bd03ec4",
   "metadata": {},
   "outputs": [
    {
     "data": {
      "text/html": [
       "<div>\n",
       "<style scoped>\n",
       "    .dataframe tbody tr th:only-of-type {\n",
       "        vertical-align: middle;\n",
       "    }\n",
       "\n",
       "    .dataframe tbody tr th {\n",
       "        vertical-align: top;\n",
       "    }\n",
       "\n",
       "    .dataframe thead th {\n",
       "        text-align: right;\n",
       "    }\n",
       "</style>\n",
       "<table border=\"1\" class=\"dataframe\">\n",
       "  <thead>\n",
       "    <tr style=\"text-align: right;\">\n",
       "      <th></th>\n",
       "      <th>Avg. Area Income</th>\n",
       "      <th>Avg. Area House Age</th>\n",
       "      <th>Avg. Area Number of Rooms</th>\n",
       "      <th>Avg. Area Number of Bedrooms</th>\n",
       "      <th>Area Population</th>\n",
       "      <th>Price</th>\n",
       "      <th>Address</th>\n",
       "    </tr>\n",
       "  </thead>\n",
       "  <tbody>\n",
       "    <tr>\n",
       "      <th>0</th>\n",
       "      <td>79545.45857</td>\n",
       "      <td>5.682861</td>\n",
       "      <td>7.009188</td>\n",
       "      <td>4.09</td>\n",
       "      <td>23086.80050</td>\n",
       "      <td>1.059034e+06</td>\n",
       "      <td>208 Michael Ferry Apt. 674\\nLaurabury, NE 3701...</td>\n",
       "    </tr>\n",
       "    <tr>\n",
       "      <th>1</th>\n",
       "      <td>79248.64245</td>\n",
       "      <td>6.002900</td>\n",
       "      <td>6.730821</td>\n",
       "      <td>3.09</td>\n",
       "      <td>40173.07217</td>\n",
       "      <td>1.505891e+06</td>\n",
       "      <td>188 Johnson Views Suite 079\\nLake Kathleen, CA...</td>\n",
       "    </tr>\n",
       "    <tr>\n",
       "      <th>2</th>\n",
       "      <td>61287.06718</td>\n",
       "      <td>5.865890</td>\n",
       "      <td>8.512727</td>\n",
       "      <td>5.13</td>\n",
       "      <td>36882.15940</td>\n",
       "      <td>1.058988e+06</td>\n",
       "      <td>9127 Elizabeth Stravenue\\nDanieltown, WI 06482...</td>\n",
       "    </tr>\n",
       "    <tr>\n",
       "      <th>3</th>\n",
       "      <td>63345.24005</td>\n",
       "      <td>7.188236</td>\n",
       "      <td>5.586729</td>\n",
       "      <td>3.26</td>\n",
       "      <td>34310.24283</td>\n",
       "      <td>1.260617e+06</td>\n",
       "      <td>USS Barnett\\nFPO AP 44820</td>\n",
       "    </tr>\n",
       "    <tr>\n",
       "      <th>4</th>\n",
       "      <td>59982.19723</td>\n",
       "      <td>5.040555</td>\n",
       "      <td>7.839388</td>\n",
       "      <td>4.23</td>\n",
       "      <td>26354.10947</td>\n",
       "      <td>6.309435e+05</td>\n",
       "      <td>USNS Raymond\\nFPO AE 09386</td>\n",
       "    </tr>\n",
       "  </tbody>\n",
       "</table>\n",
       "</div>"
      ],
      "text/plain": [
       "   Avg. Area Income  Avg. Area House Age  Avg. Area Number of Rooms  \\\n",
       "0       79545.45857             5.682861                   7.009188   \n",
       "1       79248.64245             6.002900                   6.730821   \n",
       "2       61287.06718             5.865890                   8.512727   \n",
       "3       63345.24005             7.188236                   5.586729   \n",
       "4       59982.19723             5.040555                   7.839388   \n",
       "\n",
       "   Avg. Area Number of Bedrooms  Area Population         Price  \\\n",
       "0                          4.09      23086.80050  1.059034e+06   \n",
       "1                          3.09      40173.07217  1.505891e+06   \n",
       "2                          5.13      36882.15940  1.058988e+06   \n",
       "3                          3.26      34310.24283  1.260617e+06   \n",
       "4                          4.23      26354.10947  6.309435e+05   \n",
       "\n",
       "                                             Address  \n",
       "0  208 Michael Ferry Apt. 674\\nLaurabury, NE 3701...  \n",
       "1  188 Johnson Views Suite 079\\nLake Kathleen, CA...  \n",
       "2  9127 Elizabeth Stravenue\\nDanieltown, WI 06482...  \n",
       "3                          USS Barnett\\nFPO AP 44820  \n",
       "4                         USNS Raymond\\nFPO AE 09386  "
      ]
     },
     "execution_count": 96,
     "metadata": {},
     "output_type": "execute_result"
    }
   ],
   "source": [
    "data=pd.read_csv('usahousing.csv')\n",
    "data.head()"
   ]
  },
  {
   "cell_type": "code",
   "execution_count": 97,
   "id": "971fbc65-8377-4162-aaef-f2a084b7aa91",
   "metadata": {},
   "outputs": [
    {
     "data": {
      "text/plain": [
       "(5000, 7)"
      ]
     },
     "execution_count": 97,
     "metadata": {},
     "output_type": "execute_result"
    }
   ],
   "source": [
    "data.shape"
   ]
  },
  {
   "cell_type": "code",
   "execution_count": 98,
   "id": "0869098c-9697-4f0e-8ab2-29ad824f922e",
   "metadata": {},
   "outputs": [],
   "source": [
    "y=data['Price']\n",
    "x=data.drop(columns=['Price','Address'])"
   ]
  },
  {
   "cell_type": "code",
   "execution_count": 99,
   "id": "2307273e-b036-48ab-989a-9bb89ba8694e",
   "metadata": {},
   "outputs": [],
   "source": [
    "from sklearn.model_selection import train_test_split"
   ]
  },
  {
   "cell_type": "code",
   "execution_count": 100,
   "id": "6779e055-5d64-4d2d-9840-42d77750601b",
   "metadata": {},
   "outputs": [],
   "source": [
    "x_train,x_test,y_train,y_test=train_test_split(x,y,test_size=.30,random_state=41)"
   ]
  },
  {
   "cell_type": "code",
   "execution_count": 101,
   "id": "a680f87b-92bf-4313-a501-ad20378e5075",
   "metadata": {},
   "outputs": [
    {
     "data": {
      "text/html": [
       "<div>\n",
       "<style scoped>\n",
       "    .dataframe tbody tr th:only-of-type {\n",
       "        vertical-align: middle;\n",
       "    }\n",
       "\n",
       "    .dataframe tbody tr th {\n",
       "        vertical-align: top;\n",
       "    }\n",
       "\n",
       "    .dataframe thead th {\n",
       "        text-align: right;\n",
       "    }\n",
       "</style>\n",
       "<table border=\"1\" class=\"dataframe\">\n",
       "  <thead>\n",
       "    <tr style=\"text-align: right;\">\n",
       "      <th></th>\n",
       "      <th>Avg. Area Income</th>\n",
       "      <th>Avg. Area House Age</th>\n",
       "      <th>Avg. Area Number of Rooms</th>\n",
       "      <th>Avg. Area Number of Bedrooms</th>\n",
       "      <th>Area Population</th>\n",
       "    </tr>\n",
       "  </thead>\n",
       "  <tbody>\n",
       "    <tr>\n",
       "      <th>3065</th>\n",
       "      <td>83664.38976</td>\n",
       "      <td>4.950570</td>\n",
       "      <td>7.654163</td>\n",
       "      <td>4.30</td>\n",
       "      <td>39642.12993</td>\n",
       "    </tr>\n",
       "    <tr>\n",
       "      <th>3348</th>\n",
       "      <td>65745.73181</td>\n",
       "      <td>5.770958</td>\n",
       "      <td>7.432340</td>\n",
       "      <td>6.02</td>\n",
       "      <td>33031.54087</td>\n",
       "    </tr>\n",
       "    <tr>\n",
       "      <th>4287</th>\n",
       "      <td>78114.42133</td>\n",
       "      <td>7.570046</td>\n",
       "      <td>8.423978</td>\n",
       "      <td>6.00</td>\n",
       "      <td>41831.04112</td>\n",
       "    </tr>\n",
       "    <tr>\n",
       "      <th>4842</th>\n",
       "      <td>65273.04487</td>\n",
       "      <td>6.107499</td>\n",
       "      <td>8.561687</td>\n",
       "      <td>6.10</td>\n",
       "      <td>40094.90402</td>\n",
       "    </tr>\n",
       "    <tr>\n",
       "      <th>1084</th>\n",
       "      <td>68428.39428</td>\n",
       "      <td>5.266863</td>\n",
       "      <td>6.140597</td>\n",
       "      <td>3.22</td>\n",
       "      <td>31074.12492</td>\n",
       "    </tr>\n",
       "  </tbody>\n",
       "</table>\n",
       "</div>"
      ],
      "text/plain": [
       "      Avg. Area Income  Avg. Area House Age  Avg. Area Number of Rooms  \\\n",
       "3065       83664.38976             4.950570                   7.654163   \n",
       "3348       65745.73181             5.770958                   7.432340   \n",
       "4287       78114.42133             7.570046                   8.423978   \n",
       "4842       65273.04487             6.107499                   8.561687   \n",
       "1084       68428.39428             5.266863                   6.140597   \n",
       "\n",
       "      Avg. Area Number of Bedrooms  Area Population  \n",
       "3065                          4.30      39642.12993  \n",
       "3348                          6.02      33031.54087  \n",
       "4287                          6.00      41831.04112  \n",
       "4842                          6.10      40094.90402  \n",
       "1084                          3.22      31074.12492  "
      ]
     },
     "execution_count": 101,
     "metadata": {},
     "output_type": "execute_result"
    }
   ],
   "source": [
    "x_train.head()"
   ]
  },
  {
   "cell_type": "code",
   "execution_count": 102,
   "id": "d665e6ed-d399-4ab9-a5c9-2f12d372163c",
   "metadata": {},
   "outputs": [
    {
     "data": {
      "text/plain": [
       "3065    1665515.246\n",
       "3348    1144137.636\n",
       "4287    1876746.487\n",
       "4842    1431406.513\n",
       "1084    1002192.582\n",
       "Name: Price, dtype: float64"
      ]
     },
     "execution_count": 102,
     "metadata": {},
     "output_type": "execute_result"
    }
   ],
   "source": [
    "y_train.head()"
   ]
  },
  {
   "cell_type": "code",
   "execution_count": 103,
   "id": "93852323-a8c5-495f-a1cb-6524f6e97708",
   "metadata": {},
   "outputs": [
    {
     "data": {
      "text/html": [
       "<div>\n",
       "<style scoped>\n",
       "    .dataframe tbody tr th:only-of-type {\n",
       "        vertical-align: middle;\n",
       "    }\n",
       "\n",
       "    .dataframe tbody tr th {\n",
       "        vertical-align: top;\n",
       "    }\n",
       "\n",
       "    .dataframe thead th {\n",
       "        text-align: right;\n",
       "    }\n",
       "</style>\n",
       "<table border=\"1\" class=\"dataframe\">\n",
       "  <thead>\n",
       "    <tr style=\"text-align: right;\">\n",
       "      <th></th>\n",
       "      <th>Avg. Area Income</th>\n",
       "      <th>Avg. Area House Age</th>\n",
       "      <th>Avg. Area Number of Rooms</th>\n",
       "      <th>Avg. Area Number of Bedrooms</th>\n",
       "      <th>Area Population</th>\n",
       "    </tr>\n",
       "  </thead>\n",
       "  <tbody>\n",
       "    <tr>\n",
       "      <th>3860</th>\n",
       "      <td>58970.57957</td>\n",
       "      <td>5.686393</td>\n",
       "      <td>7.688319</td>\n",
       "      <td>6.22</td>\n",
       "      <td>18991.77717</td>\n",
       "    </tr>\n",
       "    <tr>\n",
       "      <th>2982</th>\n",
       "      <td>53120.62925</td>\n",
       "      <td>6.812373</td>\n",
       "      <td>9.200246</td>\n",
       "      <td>5.39</td>\n",
       "      <td>36100.57718</td>\n",
       "    </tr>\n",
       "    <tr>\n",
       "      <th>4809</th>\n",
       "      <td>70486.89975</td>\n",
       "      <td>5.786071</td>\n",
       "      <td>6.997700</td>\n",
       "      <td>3.09</td>\n",
       "      <td>26725.63797</td>\n",
       "    </tr>\n",
       "    <tr>\n",
       "      <th>1491</th>\n",
       "      <td>82336.99245</td>\n",
       "      <td>6.553922</td>\n",
       "      <td>6.289607</td>\n",
       "      <td>3.06</td>\n",
       "      <td>37965.37421</td>\n",
       "    </tr>\n",
       "    <tr>\n",
       "      <th>1679</th>\n",
       "      <td>63049.97489</td>\n",
       "      <td>5.560579</td>\n",
       "      <td>6.194546</td>\n",
       "      <td>3.42</td>\n",
       "      <td>24985.97800</td>\n",
       "    </tr>\n",
       "  </tbody>\n",
       "</table>\n",
       "</div>"
      ],
      "text/plain": [
       "      Avg. Area Income  Avg. Area House Age  Avg. Area Number of Rooms  \\\n",
       "3860       58970.57957             5.686393                   7.688319   \n",
       "2982       53120.62925             6.812373                   9.200246   \n",
       "4809       70486.89975             5.786071                   6.997700   \n",
       "1491       82336.99245             6.553922                   6.289607   \n",
       "1679       63049.97489             5.560579                   6.194546   \n",
       "\n",
       "      Avg. Area Number of Bedrooms  Area Population  \n",
       "3860                          6.22      18991.77717  \n",
       "2982                          5.39      36100.57718  \n",
       "4809                          3.09      26725.63797  \n",
       "1491                          3.06      37965.37421  \n",
       "1679                          3.42      24985.97800  "
      ]
     },
     "execution_count": 103,
     "metadata": {},
     "output_type": "execute_result"
    }
   ],
   "source": [
    "x_test.head()"
   ]
  },
  {
   "cell_type": "code",
   "execution_count": 112,
   "id": "778de869-3118-4f06-a064-30d37786dcef",
   "metadata": {},
   "outputs": [
    {
     "data": {
      "text/plain": [
       "3860    9.736888e+05\n",
       "2982    1.411217e+06\n",
       "4809    9.870264e+05\n",
       "1491    1.326482e+06\n",
       "1679    7.733607e+05\n",
       "Name: Price, dtype: float64"
      ]
     },
     "execution_count": 112,
     "metadata": {},
     "output_type": "execute_result"
    }
   ],
   "source": [
    "y_test.head()"
   ]
  },
  {
   "cell_type": "code",
   "execution_count": 113,
   "id": "055f3f45-bc72-419e-a784-4d7aae3b1556",
   "metadata": {},
   "outputs": [],
   "source": [
    "total_records=len(x_train)+len(x_test)"
   ]
  },
  {
   "cell_type": "code",
   "execution_count": 114,
   "id": "9b6073ab-9fe8-4fc0-ad9c-3afa5dc7b651",
   "metadata": {},
   "outputs": [
    {
     "data": {
      "text/plain": [
       "5000"
      ]
     },
     "execution_count": 114,
     "metadata": {},
     "output_type": "execute_result"
    }
   ],
   "source": [
    "total_records"
   ]
  },
  {
   "cell_type": "code",
   "execution_count": 115,
   "id": "bc35feec-8e0b-4ed8-9802-f85d3741d2b8",
   "metadata": {},
   "outputs": [
    {
     "data": {
      "text/plain": [
       "(5000, 7)"
      ]
     },
     "execution_count": 115,
     "metadata": {},
     "output_type": "execute_result"
    }
   ],
   "source": [
    "data.shape"
   ]
  },
  {
   "cell_type": "code",
   "execution_count": 116,
   "id": "05fad07c-d930-4324-b88e-127843158241",
   "metadata": {},
   "outputs": [],
   "source": [
    "from sklearn.linear_model import LinearRegression\n",
    "from sklearn.metrics import r2_score"
   ]
  },
  {
   "cell_type": "code",
   "execution_count": 117,
   "id": "01b4b308-1574-458c-95fd-2aaa1f818b3b",
   "metadata": {},
   "outputs": [
    {
     "data": {
      "text/html": [
       "<div>\n",
       "<style scoped>\n",
       "    .dataframe tbody tr th:only-of-type {\n",
       "        vertical-align: middle;\n",
       "    }\n",
       "\n",
       "    .dataframe tbody tr th {\n",
       "        vertical-align: top;\n",
       "    }\n",
       "\n",
       "    .dataframe thead th {\n",
       "        text-align: right;\n",
       "    }\n",
       "</style>\n",
       "<table border=\"1\" class=\"dataframe\">\n",
       "  <thead>\n",
       "    <tr style=\"text-align: right;\">\n",
       "      <th></th>\n",
       "      <th>Avg. Area Income</th>\n",
       "      <th>Avg. Area House Age</th>\n",
       "      <th>Avg. Area Number of Rooms</th>\n",
       "      <th>Avg. Area Number of Bedrooms</th>\n",
       "      <th>Area Population</th>\n",
       "      <th>Price</th>\n",
       "    </tr>\n",
       "  </thead>\n",
       "  <tbody>\n",
       "    <tr>\n",
       "      <th>count</th>\n",
       "      <td>5000.000000</td>\n",
       "      <td>5000.000000</td>\n",
       "      <td>5000.000000</td>\n",
       "      <td>5000.000000</td>\n",
       "      <td>5000.000000</td>\n",
       "      <td>5.000000e+03</td>\n",
       "    </tr>\n",
       "    <tr>\n",
       "      <th>mean</th>\n",
       "      <td>68583.108984</td>\n",
       "      <td>5.977222</td>\n",
       "      <td>6.987792</td>\n",
       "      <td>3.981330</td>\n",
       "      <td>36163.516039</td>\n",
       "      <td>1.232073e+06</td>\n",
       "    </tr>\n",
       "    <tr>\n",
       "      <th>std</th>\n",
       "      <td>10657.991214</td>\n",
       "      <td>0.991456</td>\n",
       "      <td>1.005833</td>\n",
       "      <td>1.234137</td>\n",
       "      <td>9925.650114</td>\n",
       "      <td>3.531176e+05</td>\n",
       "    </tr>\n",
       "    <tr>\n",
       "      <th>min</th>\n",
       "      <td>17796.631190</td>\n",
       "      <td>2.644304</td>\n",
       "      <td>3.236194</td>\n",
       "      <td>2.000000</td>\n",
       "      <td>172.610686</td>\n",
       "      <td>1.593866e+04</td>\n",
       "    </tr>\n",
       "    <tr>\n",
       "      <th>25%</th>\n",
       "      <td>61480.562390</td>\n",
       "      <td>5.322283</td>\n",
       "      <td>6.299250</td>\n",
       "      <td>3.140000</td>\n",
       "      <td>29403.928700</td>\n",
       "      <td>9.975771e+05</td>\n",
       "    </tr>\n",
       "    <tr>\n",
       "      <th>50%</th>\n",
       "      <td>68804.286405</td>\n",
       "      <td>5.970429</td>\n",
       "      <td>7.002902</td>\n",
       "      <td>4.050000</td>\n",
       "      <td>36199.406690</td>\n",
       "      <td>1.232669e+06</td>\n",
       "    </tr>\n",
       "    <tr>\n",
       "      <th>75%</th>\n",
       "      <td>75783.338665</td>\n",
       "      <td>6.650808</td>\n",
       "      <td>7.665871</td>\n",
       "      <td>4.490000</td>\n",
       "      <td>42861.290770</td>\n",
       "      <td>1.471210e+06</td>\n",
       "    </tr>\n",
       "    <tr>\n",
       "      <th>max</th>\n",
       "      <td>107701.748400</td>\n",
       "      <td>9.519088</td>\n",
       "      <td>10.759588</td>\n",
       "      <td>6.500000</td>\n",
       "      <td>69621.713380</td>\n",
       "      <td>2.469066e+06</td>\n",
       "    </tr>\n",
       "  </tbody>\n",
       "</table>\n",
       "</div>"
      ],
      "text/plain": [
       "       Avg. Area Income  Avg. Area House Age  Avg. Area Number of Rooms  \\\n",
       "count       5000.000000          5000.000000                5000.000000   \n",
       "mean       68583.108984             5.977222                   6.987792   \n",
       "std        10657.991214             0.991456                   1.005833   \n",
       "min        17796.631190             2.644304                   3.236194   \n",
       "25%        61480.562390             5.322283                   6.299250   \n",
       "50%        68804.286405             5.970429                   7.002902   \n",
       "75%        75783.338665             6.650808                   7.665871   \n",
       "max       107701.748400             9.519088                  10.759588   \n",
       "\n",
       "       Avg. Area Number of Bedrooms  Area Population         Price  \n",
       "count                   5000.000000      5000.000000  5.000000e+03  \n",
       "mean                       3.981330     36163.516039  1.232073e+06  \n",
       "std                        1.234137      9925.650114  3.531176e+05  \n",
       "min                        2.000000       172.610686  1.593866e+04  \n",
       "25%                        3.140000     29403.928700  9.975771e+05  \n",
       "50%                        4.050000     36199.406690  1.232669e+06  \n",
       "75%                        4.490000     42861.290770  1.471210e+06  \n",
       "max                        6.500000     69621.713380  2.469066e+06  "
      ]
     },
     "execution_count": 117,
     "metadata": {},
     "output_type": "execute_result"
    }
   ],
   "source": [
    "data.describe()"
   ]
  },
  {
   "cell_type": "code",
   "execution_count": null,
   "id": "1bb24e87-13bf-4b2f-9044-b7d9c0e24e38",
   "metadata": {},
   "outputs": [],
   "source": [
    "sns.pairplot(data)"
   ]
  },
  {
   "cell_type": "code",
   "execution_count": 118,
   "id": "aaa5836c-19a6-4064-9a98-f545e80de96b",
   "metadata": {},
   "outputs": [
    {
     "data": {
      "text/plain": [
       "<seaborn.axisgrid.FacetGrid at 0x28ffbc48f50>"
      ]
     },
     "execution_count": 118,
     "metadata": {},
     "output_type": "execute_result"
    },
    {
     "data": {
      "image/png": "[encoded data removed]",
      "text/plain": [
       "<Figure size 500x500 with 1 Axes>"
      ]
     },
     "metadata": {},
     "output_type": "display_data"
    }
   ],
   "source": [
    "sns.displot(data['Price'])"
   ]
  },
  {
   "cell_type": "markdown",
   "id": "3f7af33a-a5c5-475c-825e-ef6f9e89fc26",
   "metadata": {},
   "source": [
    "\"\"\"plt.figure(figsize=(20,25),facecolor='black')\n",
    "plotnumber=1\n",
    "\n",
    "for column in data:\n",
    "    if plotnumber<=16:\n",
    "        ax=plt.subplot(4,4,plotnumber)\n",
    "        sns.displot(data[column])\n",
    "        plt.xlabel(column,fontsize=20)\n",
    "\n",
    "    plotnumber+=1\n",
    "\n",
    "plt.tight_layout()"
   ]
  },
  {
   "cell_type": "code",
   "execution_count": 124,
   "id": "27e77384-2e78-4644-8cd5-3e838eac91b6",
   "metadata": {},
   "outputs": [],
   "source": [
    "from sklearn.linear_model import LinearRegression\n",
    "l=LinearRegression()"
   ]
  },
  {
   "cell_type": "code",
   "execution_count": 125,
   "id": "debc6bc7-2d12-4ccb-a6f0-954104acb362",
   "metadata": {},
   "outputs": [
    {
     "data": {
      "text/html": [
       "<style>#sk-container-id-1 {color: black;background-color: white;}#sk-container-id-1 pre{padding: 0;}#sk-container-id-1 div.sk-toggleable {background-color: white;}#sk-container-id-1 label.sk-toggleable__label {cursor: pointer;display: block;width: 100%;margin-bottom: 0;padding: 0.3em;box-sizing: border-box;text-align: center;}#sk-container-id-1 label.sk-toggleable__label-arrow:before {content: \"▸\";float: left;margin-right: 0.25em;color: #696969;}#sk-container-id-1 label.sk-toggleable__label-arrow:hover:before {color: black;}#sk-container-id-1 div.sk-estimator:hover label.sk-toggleable__label-arrow:before {color: black;}#sk-container-id-1 div.sk-toggleable__content {max-height: 0;max-width: 0;overflow: hidden;text-align: left;background-color: #f0f8ff;}#sk-container-id-1 div.sk-toggleable__content pre {margin: 0.2em;color: black;border-radius: 0.25em;background-color: #f0f8ff;}#sk-container-id-1 input.sk-toggleable__control:checked~div.sk-toggleable__content {max-height: 200px;max-width: 100%;overflow: auto;}#sk-container-id-1 input.sk-toggleable__control:checked~label.sk-toggleable__label-arrow:before {content: \"▾\";}#sk-container-id-1 div.sk-estimator input.sk-toggleable__control:checked~label.sk-toggleable__label {background-color: #d4ebff;}#sk-container-id-1 div.sk-label input.sk-toggleable__control:checked~label.sk-toggleable__label {background-color: #d4ebff;}#sk-container-id-1 input.sk-hidden--visually {border: 0;clip: rect(1px 1px 1px 1px);clip: rect(1px, 1px, 1px, 1px);height: 1px;margin: -1px;overflow: hidden;padding: 0;position: absolute;width: 1px;}#sk-container-id-1 div.sk-estimator {font-family: monospace;background-color: #f0f8ff;border: 1px dotted black;border-radius: 0.25em;box-sizing: border-box;margin-bottom: 0.5em;}#sk-container-id-1 div.sk-estimator:hover {background-color: #d4ebff;}#sk-container-id-1 div.sk-parallel-item::after {content: \"\";width: 100%;border-bottom: 1px solid gray;flex-grow: 1;}#sk-container-id-1 div.sk-label:hover label.sk-toggleable__label {background-color: #d4ebff;}#sk-container-id-1 div.sk-serial::before {content: \"\";position: absolute;border-left: 1px solid gray;box-sizing: border-box;top: 0;bottom: 0;left: 50%;z-index: 0;}#sk-container-id-1 div.sk-serial {display: flex;flex-direction: column;align-items: center;background-color: white;padding-right: 0.2em;padding-left: 0.2em;position: relative;}#sk-container-id-1 div.sk-item {position: relative;z-index: 1;}#sk-container-id-1 div.sk-parallel {display: flex;align-items: stretch;justify-content: center;background-color: white;position: relative;}#sk-container-id-1 div.sk-item::before, #sk-container-id-1 div.sk-parallel-item::before {content: \"\";position: absolute;border-left: 1px solid gray;box-sizing: border-box;top: 0;bottom: 0;left: 50%;z-index: -1;}#sk-container-id-1 div.sk-parallel-item {display: flex;flex-direction: column;z-index: 1;position: relative;background-color: white;}#sk-container-id-1 div.sk-parallel-item:first-child::after {align-self: flex-end;width: 50%;}#sk-container-id-1 div.sk-parallel-item:last-child::after {align-self: flex-start;width: 50%;}#sk-container-id-1 div.sk-parallel-item:only-child::after {width: 0;}#sk-container-id-1 div.sk-dashed-wrapped {border: 1px dashed gray;margin: 0 0.4em 0.5em 0.4em;box-sizing: border-box;padding-bottom: 0.4em;background-color: white;}#sk-container-id-1 div.sk-label label {font-family: monospace;font-weight: bold;display: inline-block;line-height: 1.2em;}#sk-container-id-1 div.sk-label-container {text-align: center;}#sk-container-id-1 div.sk-container {/* jupyter's `normalize.less` sets `[hidden] { display: none; }` but bootstrap.min.css set `[hidden] { display: none !important; }` so we also need the `!important` here to be able to override the default hidden behavior on the sphinx rendered scikit-learn.org. See: https://github.com/scikit-learn/scikit-learn/issues/21755 */display: inline-block !important;position: relative;}#sk-container-id-1 div.sk-text-repr-fallback {display: none;}</style><div id=\"sk-container-id-1\" class=\"sk-top-container\"><div class=\"sk-text-repr-fallback\"><pre>LinearRegression()</pre><b>In a Jupyter environment, please rerun this cell to show the HTML representation or trust the notebook. <br />On GitHub, the HTML representation is unable to render, please try loading this page with nbviewer.org.</b></div><div class=\"sk-container\" hidden><div class=\"sk-item\"><div class=\"sk-estimator sk-toggleable\"><input class=\"sk-toggleable__control sk-hidden--visually\" id=\"sk-estimator-id-1\" type=\"checkbox\" checked><label for=\"sk-estimator-id-1\" class=\"sk-toggleable__label sk-toggleable__label-arrow\">LinearRegression</label><div class=\"sk-toggleable__content\"><pre>LinearRegression()</pre></div></div></div></div></div>"
      ],
      "text/plain": [
       "LinearRegression()"
      ]
     },
     "execution_count": 125,
     "metadata": {},
     "output_type": "execute_result"
    }
   ],
   "source": [
    "l.fit(x_train,y_train)"
   ]
  },
  {
   "cell_type": "code",
   "execution_count": 126,
   "id": "79c3a247-eedd-4db7-bde8-3549a5b81518",
   "metadata": {},
   "outputs": [
    {
     "name": "stdout",
     "output_type": "stream",
     "text": [
      "coefficients [2.16098762e+01 1.66294911e+05 1.20573223e+05 1.32946513e+03\n",
      " 1.52866263e+01]\n"
     ]
    }
   ],
   "source": [
    "print('coefficients',l.coef_)"
   ]
  },
  {
   "cell_type": "code",
   "execution_count": 128,
   "id": "4f8f15c5-081e-4b58-92c0-245a67289066",
   "metadata": {},
   "outputs": [
    {
     "name": "stdout",
     "output_type": "stream",
     "text": [
      "Variance score: 0.919485692646601\n"
     ]
    }
   ],
   "source": [
    "print('Variance score: {}'.format(l.score(x_test, y_test)))"
   ]
  },
  {
   "cell_type": "code",
   "execution_count": 130,
   "id": "a21a3dce-5acb-46e3-b487-78c4407ca7c5",
   "metadata": {},
   "outputs": [
    {
     "data": {
      "image/png": "[encoded data removed]",
      "text/plain": [
       "<Figure size 640x480 with 1 Axes>"
      ]
     },
     "metadata": {},
     "output_type": "display_data"
    }
   ],
   "source": [
    "# plot for residual error # setting plot style \n",
    "plt.style.use('fivethirtyeight') \n",
    "# plotting residual errors in training data \n",
    "plt.scatter(l.predict(x_train), l.predict(x_train) - y_train, color=\"green\", s=10, label='Train data') \n",
    "# plotting residual errors in test data \n",
    "plt.scatter(l.predict(x_test), l.predict(x_test) - y_test, color=\"blue\", s=10, label='Test data') \n",
    "# plotting line for zero residual error \n",
    "plt.hlines(y=0, xmin=0, xmax=50, linewidth=2) \n",
    "# plotting legend \n",
    "plt.legend(loc='upper right') \n",
    "# plot title \n",
    "plt.title(\"Residual errors\") \n",
    "# method call for showing the plot \n",
    "plt.show()"
   ]
  },
  {
   "cell_type": "code",
   "execution_count": 131,
   "id": "7506887b-1323-4c1e-9a7f-a65bb83d932a",
   "metadata": {},
   "outputs": [
    {
     "data": {
      "text/plain": [
       "\u001b[1;31mSignature:\u001b[0m \u001b[0mplt\u001b[0m\u001b[1;33m.\u001b[0m\u001b[0mstyle\u001b[0m\u001b[1;33m.\u001b[0m\u001b[0muse\u001b[0m\u001b[1;33m(\u001b[0m\u001b[0mstyle\u001b[0m\u001b[1;33m)\u001b[0m\u001b[1;33m\u001b[0m\u001b[1;33m\u001b[0m\u001b[0m\n",
       "\u001b[1;31mDocstring:\u001b[0m\n",
       "Use Matplotlib style settings from a style specification.\n",
       "\n",
       "The style name of 'default' is reserved for reverting back to\n",
       "the default style settings.\n",
       "\n",
       ".. note::\n",
       "\n",
       "   This updates the `.rcParams` with the settings from the style.\n",
       "   `.rcParams` not defined in the style are kept.\n",
       "\n",
       "Parameters\n",
       "----------\n",
       "style : str, dict, Path or list\n",
       "\n",
       "    A style specification. Valid options are:\n",
       "\n",
       "    str\n",
       "        - One of the style names in `.style.available` (a builtin style or\n",
       "          a style installed in the user library path).\n",
       "\n",
       "        - A dotted name of the form \"package.style_name\"; in that case,\n",
       "          \"package\" should be an importable Python package name, e.g. at\n",
       "          ``/path/to/package/__init__.py``; the loaded style file is\n",
       "          ``/path/to/package/style_name.mplstyle``.  (Style files in\n",
       "          subpackages are likewise supported.)\n",
       "\n",
       "        - The path or URL to a style file, which gets loaded by\n",
       "          `.rc_params_from_file`.\n",
       "\n",
       "    dict\n",
       "        A mapping of key/value pairs for `matplotlib.rcParams`.\n",
       "\n",
       "    Path\n",
       "        The path to a style file, which gets loaded by\n",
       "        `.rc_params_from_file`.\n",
       "\n",
       "    list\n",
       "        A list of style specifiers (str, Path or dict), which are applied\n",
       "        from first to last in the list.\n",
       "\n",
       "Notes\n",
       "-----\n",
       "The following `.rcParams` are not related to style and will be ignored if\n",
       "found in a style specification:\n",
       "\n",
       "- backend\n",
       "- backend_fallback\n",
       "- date.epoch\n",
       "- docstring.hardcopy\n",
       "- figure.max_open_warning\n",
       "- figure.raise_window\n",
       "- interactive\n",
       "- savefig.directory\n",
       "- timezone\n",
       "- tk.window_focus\n",
       "- toolbar\n",
       "- webagg.address\n",
       "- webagg.open_in_browser\n",
       "- webagg.port\n",
       "- webagg.port_retries\n",
       "\u001b[1;31mFile:\u001b[0m      c:\\anaconda\\lib\\site-packages\\matplotlib\\style\\core.py\n",
       "\u001b[1;31mType:\u001b[0m      function"
      ]
     },
     "metadata": {},
     "output_type": "display_data"
    }
   ],
   "source": [
    "plt.style.use?"
   ]
  },
  {
   "cell_type": "code",
   "execution_count": null,
   "id": "4a829cb1-5825-4332-ab0b-ddbc03fe275f",
   "metadata": {},
   "outputs": [],
   "source": []
  },
  {
   "cell_type": "code",
   "execution_count": null,
   "id": "565fdfdf-a641-4d99-af53-96246ea587d9",
   "metadata": {},
   "outputs": [],
   "source": []
  },
  {
   "cell_type": "code",
   "execution_count": 111,
   "id": "2f8ef125-9408-48ab-a74d-77f8012c5957",
   "metadata": {},
   "outputs": [
    {
     "data": {
      "text/html": [
       "<div>\n",
       "<style scoped>\n",
       "    .dataframe tbody tr th:only-of-type {\n",
       "        vertical-align: middle;\n",
       "    }\n",
       "\n",
       "    .dataframe tbody tr th {\n",
       "        vertical-align: top;\n",
       "    }\n",
       "\n",
       "    .dataframe thead th {\n",
       "        text-align: right;\n",
       "    }\n",
       "</style>\n",
       "<table border=\"1\" class=\"dataframe\">\n",
       "  <thead>\n",
       "    <tr style=\"text-align: right;\">\n",
       "      <th></th>\n",
       "      <th>car name</th>\n",
       "      <th>price</th>\n",
       "      <th>engine_capacity</th>\n",
       "      <th>cylinder</th>\n",
       "      <th>horse_power</th>\n",
       "      <th>top_speed</th>\n",
       "      <th>seats</th>\n",
       "      <th>brand</th>\n",
       "      <th>country</th>\n",
       "    </tr>\n",
       "  </thead>\n",
       "  <tbody>\n",
       "    <tr>\n",
       "      <th>0</th>\n",
       "      <td>Fiat 500e 2021 La Prima</td>\n",
       "      <td>TBD</td>\n",
       "      <td>0</td>\n",
       "      <td>N/A, Electric</td>\n",
       "      <td>Single</td>\n",
       "      <td>Automatic</td>\n",
       "      <td>150</td>\n",
       "      <td>fiat</td>\n",
       "      <td>ksa</td>\n",
       "    </tr>\n",
       "    <tr>\n",
       "      <th>1</th>\n",
       "      <td>Peugeot Traveller 2021 L3 VIP</td>\n",
       "      <td>SAR 140,575</td>\n",
       "      <td>2</td>\n",
       "      <td>4</td>\n",
       "      <td>180</td>\n",
       "      <td>8 Seater</td>\n",
       "      <td>8.8</td>\n",
       "      <td>peugeot</td>\n",
       "      <td>ksa</td>\n",
       "    </tr>\n",
       "    <tr>\n",
       "      <th>2</th>\n",
       "      <td>Suzuki Jimny 2021 1.5L Automatic</td>\n",
       "      <td>SAR 98,785</td>\n",
       "      <td>1.5</td>\n",
       "      <td>4</td>\n",
       "      <td>102</td>\n",
       "      <td>145</td>\n",
       "      <td>4 Seater</td>\n",
       "      <td>suzuki</td>\n",
       "      <td>ksa</td>\n",
       "    </tr>\n",
       "    <tr>\n",
       "      <th>3</th>\n",
       "      <td>Ford Bronco 2021 2.3T Big Bend</td>\n",
       "      <td>SAR 198,000</td>\n",
       "      <td>2.3</td>\n",
       "      <td>4</td>\n",
       "      <td>420</td>\n",
       "      <td>4 Seater</td>\n",
       "      <td>7.5</td>\n",
       "      <td>ford</td>\n",
       "      <td>ksa</td>\n",
       "    </tr>\n",
       "    <tr>\n",
       "      <th>4</th>\n",
       "      <td>Honda HR-V 2021 1.8 i-VTEC LX</td>\n",
       "      <td>Orangeburst Metallic</td>\n",
       "      <td>1.8</td>\n",
       "      <td>4</td>\n",
       "      <td>140</td>\n",
       "      <td>190</td>\n",
       "      <td>5 Seater</td>\n",
       "      <td>honda</td>\n",
       "      <td>ksa</td>\n",
       "    </tr>\n",
       "  </tbody>\n",
       "</table>\n",
       "</div>"
      ],
      "text/plain": [
       "                           car name                 price engine_capacity  \\\n",
       "0           Fiat 500e 2021 La Prima                   TBD               0   \n",
       "1     Peugeot Traveller 2021 L3 VIP           SAR 140,575               2   \n",
       "2  Suzuki Jimny 2021 1.5L Automatic            SAR 98,785             1.5   \n",
       "3    Ford Bronco 2021 2.3T Big Bend           SAR 198,000             2.3   \n",
       "4     Honda HR-V 2021 1.8 i-VTEC LX  Orangeburst Metallic             1.8   \n",
       "\n",
       "        cylinder horse_power  top_speed     seats    brand country  \n",
       "0  N/A, Electric      Single  Automatic       150     fiat     ksa  \n",
       "1              4         180   8 Seater       8.8  peugeot     ksa  \n",
       "2              4         102        145  4 Seater   suzuki     ksa  \n",
       "3              4         420   4 Seater       7.5     ford     ksa  \n",
       "4              4         140        190  5 Seater    honda     ksa  "
      ]
     },
     "execution_count": 111,
     "metadata": {},
     "output_type": "execute_result"
    }
   ],
   "source": [
    "d1=pd.read_csv('cars.csv')\n",
    "d1.head()"
   ]
  },
  {
   "cell_type": "code",
   "execution_count": 108,
   "id": "02077272-f3d3-4568-b777-c02ad37b1467",
   "metadata": {},
   "outputs": [],
   "source": [
    "data_url = \"http://lib.stat.cmu.edu/datasets/boston\" \n",
    "raw_df = pd.read_csv(data_url, sep=\"\\s+\", skiprows=22, header=None)"
   ]
  },
  {
   "cell_type": "code",
   "execution_count": 109,
   "id": "dd4ea353-8d20-4c96-86bb-383ef891d21b",
   "metadata": {},
   "outputs": [
    {
     "data": {
      "text/html": [
       "<div>\n",
       "<style scoped>\n",
       "    .dataframe tbody tr th:only-of-type {\n",
       "        vertical-align: middle;\n",
       "    }\n",
       "\n",
       "    .dataframe tbody tr th {\n",
       "        vertical-align: top;\n",
       "    }\n",
       "\n",
       "    .dataframe thead th {\n",
       "        text-align: right;\n",
       "    }\n",
       "</style>\n",
       "<table border=\"1\" class=\"dataframe\">\n",
       "  <thead>\n",
       "    <tr style=\"text-align: right;\">\n",
       "      <th></th>\n",
       "      <th>0</th>\n",
       "      <th>1</th>\n",
       "      <th>2</th>\n",
       "      <th>3</th>\n",
       "      <th>4</th>\n",
       "      <th>5</th>\n",
       "      <th>6</th>\n",
       "      <th>7</th>\n",
       "      <th>8</th>\n",
       "      <th>9</th>\n",
       "      <th>10</th>\n",
       "    </tr>\n",
       "  </thead>\n",
       "  <tbody>\n",
       "    <tr>\n",
       "      <th>0</th>\n",
       "      <td>0.00632</td>\n",
       "      <td>18.00</td>\n",
       "      <td>2.31</td>\n",
       "      <td>0.0</td>\n",
       "      <td>0.538</td>\n",
       "      <td>6.575</td>\n",
       "      <td>65.2</td>\n",
       "      <td>4.0900</td>\n",
       "      <td>1.0</td>\n",
       "      <td>296.0</td>\n",
       "      <td>15.3</td>\n",
       "    </tr>\n",
       "    <tr>\n",
       "      <th>1</th>\n",
       "      <td>396.90000</td>\n",
       "      <td>4.98</td>\n",
       "      <td>24.00</td>\n",
       "      <td>NaN</td>\n",
       "      <td>NaN</td>\n",
       "      <td>NaN</td>\n",
       "      <td>NaN</td>\n",
       "      <td>NaN</td>\n",
       "      <td>NaN</td>\n",
       "      <td>NaN</td>\n",
       "      <td>NaN</td>\n",
       "    </tr>\n",
       "    <tr>\n",
       "      <th>2</th>\n",
       "      <td>0.02731</td>\n",
       "      <td>0.00</td>\n",
       "      <td>7.07</td>\n",
       "      <td>0.0</td>\n",
       "      <td>0.469</td>\n",
       "      <td>6.421</td>\n",
       "      <td>78.9</td>\n",
       "      <td>4.9671</td>\n",
       "      <td>2.0</td>\n",
       "      <td>242.0</td>\n",
       "      <td>17.8</td>\n",
       "    </tr>\n",
       "    <tr>\n",
       "      <th>3</th>\n",
       "      <td>396.90000</td>\n",
       "      <td>9.14</td>\n",
       "      <td>21.60</td>\n",
       "      <td>NaN</td>\n",
       "      <td>NaN</td>\n",
       "      <td>NaN</td>\n",
       "      <td>NaN</td>\n",
       "      <td>NaN</td>\n",
       "      <td>NaN</td>\n",
       "      <td>NaN</td>\n",
       "      <td>NaN</td>\n",
       "    </tr>\n",
       "    <tr>\n",
       "      <th>4</th>\n",
       "      <td>0.02729</td>\n",
       "      <td>0.00</td>\n",
       "      <td>7.07</td>\n",
       "      <td>0.0</td>\n",
       "      <td>0.469</td>\n",
       "      <td>7.185</td>\n",
       "      <td>61.1</td>\n",
       "      <td>4.9671</td>\n",
       "      <td>2.0</td>\n",
       "      <td>242.0</td>\n",
       "      <td>17.8</td>\n",
       "    </tr>\n",
       "  </tbody>\n",
       "</table>\n",
       "</div>"
      ],
      "text/plain": [
       "          0      1      2    3      4      5     6       7    8      9     10\n",
       "0    0.00632  18.00   2.31  0.0  0.538  6.575  65.2  4.0900  1.0  296.0  15.3\n",
       "1  396.90000   4.98  24.00  NaN    NaN    NaN   NaN     NaN  NaN    NaN   NaN\n",
       "2    0.02731   0.00   7.07  0.0  0.469  6.421  78.9  4.9671  2.0  242.0  17.8\n",
       "3  396.90000   9.14  21.60  NaN    NaN    NaN   NaN     NaN  NaN    NaN   NaN\n",
       "4    0.02729   0.00   7.07  0.0  0.469  7.185  61.1  4.9671  2.0  242.0  17.8"
      ]
     },
     "execution_count": 109,
     "metadata": {},
     "output_type": "execute_result"
    }
   ],
   "source": [
    "raw_df.head()"
   ]
  },
  {
   "cell_type": "code",
   "execution_count": null,
   "id": "19406ee5-58fe-4652-a659-6d7c5f0b2475",
   "metadata": {},
   "outputs": [],
   "source": []
  }
 ],
 "metadata": {
  "kernelspec": {
   "display_name": "Python 3 (ipykernel)",
   "language": "python",
   "name": "python3"
  },
  "language_info": {
   "codemirror_mode": {
    "name": "ipython",
    "version": 3
   },
   "file_extension": ".py",
   "mimetype": "text/x-python",
   "name": "python",
   "nbconvert_exporter": "python",
   "pygments_lexer": "ipython3",
   "version": "3.11.7"
  }
 },
 "nbformat": 4,
 "nbformat_minor": 5
}
