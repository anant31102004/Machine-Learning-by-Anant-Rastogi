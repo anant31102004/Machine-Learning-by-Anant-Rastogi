{
 "cells": [
  {
   "cell_type": "code",
   "execution_count": 1,
   "id": "479ee740-7a32-489f-9618-070f94eff9fe",
   "metadata": {},
   "outputs": [],
   "source": [
    "import numpy as np \n",
    "import pandas as pd \n",
    "import matplotlib.pyplot as plt\n",
    "import seaborn as sea"
   ]
  },
  {
   "cell_type": "code",
   "execution_count": null,
   "id": "68530054-d5ea-4dea-b1bc-b2138b30e340",
   "metadata": {},
   "outputs": [],
   "source": []
  },
  {
   "cell_type": "code",
   "execution_count": 2,
   "id": "fab92f8f-e4e1-4893-a340-4c984ee75ae0",
   "metadata": {},
   "outputs": [
    {
     "data": {
      "text/html": [
       "<div>\n",
       "<style scoped>\n",
       "    .dataframe tbody tr th:only-of-type {\n",
       "        vertical-align: middle;\n",
       "    }\n",
       "\n",
       "    .dataframe tbody tr th {\n",
       "        vertical-align: top;\n",
       "    }\n",
       "\n",
       "    .dataframe thead th {\n",
       "        text-align: right;\n",
       "    }\n",
       "</style>\n",
       "<table border=\"1\" class=\"dataframe\">\n",
       "  <thead>\n",
       "    <tr style=\"text-align: right;\">\n",
       "      <th></th>\n",
       "      <th>User ID</th>\n",
       "      <th>Gender</th>\n",
       "      <th>Age</th>\n",
       "      <th>EstimatedSalary</th>\n",
       "      <th>Purchased</th>\n",
       "    </tr>\n",
       "  </thead>\n",
       "  <tbody>\n",
       "    <tr>\n",
       "      <th>254</th>\n",
       "      <td>15724161</td>\n",
       "      <td>Female</td>\n",
       "      <td>50</td>\n",
       "      <td>44000</td>\n",
       "      <td>0</td>\n",
       "    </tr>\n",
       "    <tr>\n",
       "      <th>225</th>\n",
       "      <td>15622171</td>\n",
       "      <td>Male</td>\n",
       "      <td>37</td>\n",
       "      <td>53000</td>\n",
       "      <td>0</td>\n",
       "    </tr>\n",
       "    <tr>\n",
       "      <th>291</th>\n",
       "      <td>15596522</td>\n",
       "      <td>Male</td>\n",
       "      <td>49</td>\n",
       "      <td>89000</td>\n",
       "      <td>1</td>\n",
       "    </tr>\n",
       "    <tr>\n",
       "      <th>296</th>\n",
       "      <td>15673539</td>\n",
       "      <td>Male</td>\n",
       "      <td>42</td>\n",
       "      <td>73000</td>\n",
       "      <td>1</td>\n",
       "    </tr>\n",
       "    <tr>\n",
       "      <th>130</th>\n",
       "      <td>15675185</td>\n",
       "      <td>Male</td>\n",
       "      <td>31</td>\n",
       "      <td>58000</td>\n",
       "      <td>0</td>\n",
       "    </tr>\n",
       "    <tr>\n",
       "      <th>374</th>\n",
       "      <td>15793890</td>\n",
       "      <td>Female</td>\n",
       "      <td>37</td>\n",
       "      <td>80000</td>\n",
       "      <td>0</td>\n",
       "    </tr>\n",
       "    <tr>\n",
       "      <th>276</th>\n",
       "      <td>15734312</td>\n",
       "      <td>Male</td>\n",
       "      <td>38</td>\n",
       "      <td>71000</td>\n",
       "      <td>0</td>\n",
       "    </tr>\n",
       "    <tr>\n",
       "      <th>341</th>\n",
       "      <td>15776844</td>\n",
       "      <td>Male</td>\n",
       "      <td>35</td>\n",
       "      <td>75000</td>\n",
       "      <td>0</td>\n",
       "    </tr>\n",
       "    <tr>\n",
       "      <th>357</th>\n",
       "      <td>15671387</td>\n",
       "      <td>Female</td>\n",
       "      <td>41</td>\n",
       "      <td>72000</td>\n",
       "      <td>0</td>\n",
       "    </tr>\n",
       "    <tr>\n",
       "      <th>345</th>\n",
       "      <td>15716781</td>\n",
       "      <td>Female</td>\n",
       "      <td>41</td>\n",
       "      <td>63000</td>\n",
       "      <td>0</td>\n",
       "    </tr>\n",
       "  </tbody>\n",
       "</table>\n",
       "</div>"
      ],
      "text/plain": [
       "      User ID  Gender  Age  EstimatedSalary  Purchased\n",
       "254  15724161  Female   50            44000          0\n",
       "225  15622171    Male   37            53000          0\n",
       "291  15596522    Male   49            89000          1\n",
       "296  15673539    Male   42            73000          1\n",
       "130  15675185    Male   31            58000          0\n",
       "374  15793890  Female   37            80000          0\n",
       "276  15734312    Male   38            71000          0\n",
       "341  15776844    Male   35            75000          0\n",
       "357  15671387  Female   41            72000          0\n",
       "345  15716781  Female   41            63000          0"
      ]
     },
     "execution_count": 2,
     "metadata": {},
     "output_type": "execute_result"
    }
   ],
   "source": [
    "df=pd.read_csv('User_data.csv')\n",
    "df.sample(10)"
   ]
  },
  {
   "cell_type": "code",
   "execution_count": 9,
   "id": "d958a0a7-e768-4e2f-8c19-1eb89c0411d8",
   "metadata": {},
   "outputs": [],
   "source": [
    "# we are predicting the user will purchase the company's newly launched product or not "
   ]
  },
  {
   "cell_type": "code",
   "execution_count": 10,
   "id": "43b512bd-e105-481e-8fde-1a87b81cfeb5",
   "metadata": {},
   "outputs": [
    {
     "data": {
      "text/plain": [
       "User ID            0\n",
       "Gender             0\n",
       "Age                0\n",
       "EstimatedSalary    0\n",
       "Purchased          0\n",
       "dtype: int64"
      ]
     },
     "execution_count": 10,
     "metadata": {},
     "output_type": "execute_result"
    }
   ],
   "source": [
    "# check if there are null values\n",
    "df.isnull().sum()"
   ]
  },
  {
   "cell_type": "code",
   "execution_count": 11,
   "id": "018d88c4-a8ab-4021-b254-c0c854667348",
   "metadata": {},
   "outputs": [
    {
     "name": "stdout",
     "output_type": "stream",
     "text": [
      "<class 'pandas.core.frame.DataFrame'>\n",
      "RangeIndex: 400 entries, 0 to 399\n",
      "Data columns (total 5 columns):\n",
      " #   Column           Non-Null Count  Dtype \n",
      "---  ------           --------------  ----- \n",
      " 0   User ID          400 non-null    int64 \n",
      " 1   Gender           400 non-null    object\n",
      " 2   Age              400 non-null    int64 \n",
      " 3   EstimatedSalary  400 non-null    int64 \n",
      " 4   Purchased        400 non-null    int64 \n",
      "dtypes: int64(4), object(1)\n",
      "memory usage: 15.8+ KB\n"
     ]
    }
   ],
   "source": [
    "# check all info\n",
    "df.info()"
   ]
  },
  {
   "cell_type": "code",
   "execution_count": 13,
   "id": "5bc655fe-b1f2-483c-9772-744062191e82",
   "metadata": {},
   "outputs": [
    {
     "data": {
      "text/html": [
       "<div>\n",
       "<style scoped>\n",
       "    .dataframe tbody tr th:only-of-type {\n",
       "        vertical-align: middle;\n",
       "    }\n",
       "\n",
       "    .dataframe tbody tr th {\n",
       "        vertical-align: top;\n",
       "    }\n",
       "\n",
       "    .dataframe thead th {\n",
       "        text-align: right;\n",
       "    }\n",
       "</style>\n",
       "<table border=\"1\" class=\"dataframe\">\n",
       "  <thead>\n",
       "    <tr style=\"text-align: right;\">\n",
       "      <th></th>\n",
       "      <th>User ID</th>\n",
       "      <th>Age</th>\n",
       "      <th>EstimatedSalary</th>\n",
       "      <th>Purchased</th>\n",
       "    </tr>\n",
       "  </thead>\n",
       "  <tbody>\n",
       "    <tr>\n",
       "      <th>count</th>\n",
       "      <td>4.000000e+02</td>\n",
       "      <td>400.000000</td>\n",
       "      <td>400.000000</td>\n",
       "      <td>400.000000</td>\n",
       "    </tr>\n",
       "    <tr>\n",
       "      <th>mean</th>\n",
       "      <td>1.569154e+07</td>\n",
       "      <td>37.655000</td>\n",
       "      <td>69742.500000</td>\n",
       "      <td>0.357500</td>\n",
       "    </tr>\n",
       "    <tr>\n",
       "      <th>std</th>\n",
       "      <td>7.165832e+04</td>\n",
       "      <td>10.482877</td>\n",
       "      <td>34096.960282</td>\n",
       "      <td>0.479864</td>\n",
       "    </tr>\n",
       "    <tr>\n",
       "      <th>min</th>\n",
       "      <td>1.556669e+07</td>\n",
       "      <td>18.000000</td>\n",
       "      <td>15000.000000</td>\n",
       "      <td>0.000000</td>\n",
       "    </tr>\n",
       "    <tr>\n",
       "      <th>25%</th>\n",
       "      <td>1.562676e+07</td>\n",
       "      <td>29.750000</td>\n",
       "      <td>43000.000000</td>\n",
       "      <td>0.000000</td>\n",
       "    </tr>\n",
       "    <tr>\n",
       "      <th>50%</th>\n",
       "      <td>1.569434e+07</td>\n",
       "      <td>37.000000</td>\n",
       "      <td>70000.000000</td>\n",
       "      <td>0.000000</td>\n",
       "    </tr>\n",
       "    <tr>\n",
       "      <th>75%</th>\n",
       "      <td>1.575036e+07</td>\n",
       "      <td>46.000000</td>\n",
       "      <td>88000.000000</td>\n",
       "      <td>1.000000</td>\n",
       "    </tr>\n",
       "    <tr>\n",
       "      <th>max</th>\n",
       "      <td>1.581524e+07</td>\n",
       "      <td>60.000000</td>\n",
       "      <td>150000.000000</td>\n",
       "      <td>1.000000</td>\n",
       "    </tr>\n",
       "  </tbody>\n",
       "</table>\n",
       "</div>"
      ],
      "text/plain": [
       "            User ID         Age  EstimatedSalary   Purchased\n",
       "count  4.000000e+02  400.000000       400.000000  400.000000\n",
       "mean   1.569154e+07   37.655000     69742.500000    0.357500\n",
       "std    7.165832e+04   10.482877     34096.960282    0.479864\n",
       "min    1.556669e+07   18.000000     15000.000000    0.000000\n",
       "25%    1.562676e+07   29.750000     43000.000000    0.000000\n",
       "50%    1.569434e+07   37.000000     70000.000000    0.000000\n",
       "75%    1.575036e+07   46.000000     88000.000000    1.000000\n",
       "max    1.581524e+07   60.000000    150000.000000    1.000000"
      ]
     },
     "execution_count": 13,
     "metadata": {},
     "output_type": "execute_result"
    }
   ],
   "source": [
    "df.describe()"
   ]
  },
  {
   "cell_type": "code",
   "execution_count": 15,
   "id": "eca12d08-42fc-4ffd-95ea-97cdeba51784",
   "metadata": {},
   "outputs": [
    {
     "data": {
      "text/plain": [
       "Purchased\n",
       "0    257\n",
       "1    143\n",
       "Name: count, dtype: int64"
      ]
     },
     "execution_count": 15,
     "metadata": {},
     "output_type": "execute_result"
    }
   ],
   "source": [
    "# get the count of label 0 & 1\n",
    "df['Purchased'].value_counts()"
   ]
  },
  {
   "cell_type": "code",
   "execution_count": 17,
   "id": "8bb6fdbb-5ab7-4d2e-9d1f-63b7a02c940f",
   "metadata": {},
   "outputs": [],
   "source": [
    "#divide data into dependent(y) and independent(x)\n",
    "x = df.iloc[:,[2,3]].values\n",
    "y = df.iloc[:,4].values"
   ]
  },
  {
   "cell_type": "code",
   "execution_count": 92,
   "id": "67af39c7-3d5b-4c5b-9962-4674bae9d461",
   "metadata": {},
   "outputs": [],
   "source": [
    "# split the data into train and test set\n",
    "from sklearn.model_selection import train_test_split\n",
    "x_train,x_test,y_train,y_test=train_test_split(x,y,test_size=0.25,random_state=42)"
   ]
  },
  {
   "cell_type": "code",
   "execution_count": 93,
   "id": "4dcd2eed-28fa-4891-bafb-d8264ea5d61a",
   "metadata": {},
   "outputs": [
    {
     "data": {
      "text/plain": [
       "array([[    57, 122000],\n",
       "       [    39,  71000],\n",
       "       [    47,  25000],\n",
       "       [    24,  19000],\n",
       "       [    36,  50000],\n",
       "       [    32, 150000],\n",
       "       [    48,  29000],\n",
       "       [    30, 107000],\n",
       "       [    60,  34000],\n",
       "       [    38,  61000],\n",
       "       [    33,  31000],\n",
       "       [    39,  71000],\n",
       "       [    55,  39000],\n",
       "       [    49,  39000],\n",
       "       [    43, 112000],\n",
       "       [    27,  20000],\n",
       "       [    26,  17000],\n",
       "       [    37,  93000],\n",
       "       [    42,  54000],\n",
       "       [    35,  61000],\n",
       "       [    29,  75000],\n",
       "       [    38,  80000],\n",
       "       [    45,  26000],\n",
       "       [    54, 108000],\n",
       "       [    46,  23000],\n",
       "       [    23,  28000],\n",
       "       [    37,  75000],\n",
       "       [    42,  65000],\n",
       "       [    35,  71000],\n",
       "       [    51, 146000],\n",
       "       [    39,  96000],\n",
       "       [    24,  89000],\n",
       "       [    58,  95000],\n",
       "       [    25,  22000],\n",
       "       [    41,  59000],\n",
       "       [    28,  89000],\n",
       "       [    42,  80000],\n",
       "       [    42, 108000],\n",
       "       [    46,  96000],\n",
       "       [    47, 113000],\n",
       "       [    33,  28000],\n",
       "       [    19,  25000],\n",
       "       [    49,  89000],\n",
       "       [    31,  15000],\n",
       "       [    30,  79000],\n",
       "       [    48, 141000],\n",
       "       [    32, 117000],\n",
       "       [    37,  71000],\n",
       "       [    18,  86000],\n",
       "       [    42,  79000],\n",
       "       [    27,  84000],\n",
       "       [    40,  65000],\n",
       "       [    57,  74000],\n",
       "       [    26,  15000],\n",
       "       [    26,  80000],\n",
       "       [    29,  43000],\n",
       "       [    33, 149000],\n",
       "       [    39,  42000],\n",
       "       [    54, 104000],\n",
       "       [    36,  33000],\n",
       "       [    46,  32000],\n",
       "       [    40, 142000],\n",
       "       [    37,  62000],\n",
       "       [    29, 148000],\n",
       "       [    37,  57000],\n",
       "       [    35,  50000],\n",
       "       [    42,  53000],\n",
       "       [    35,  38000],\n",
       "       [    41,  30000],\n",
       "       [    40,  72000],\n",
       "       [    26,  15000],\n",
       "       [    31,  68000],\n",
       "       [    35,  53000],\n",
       "       [    35,  25000],\n",
       "       [    30,  89000],\n",
       "       [    41,  72000],\n",
       "       [    28, 123000],\n",
       "       [    46,  82000],\n",
       "       [    22,  63000],\n",
       "       [    45,  22000],\n",
       "       [    30,  49000],\n",
       "       [    34,  25000],\n",
       "       [    40,  75000],\n",
       "       [    32, 117000],\n",
       "       [    23,  82000],\n",
       "       [    26,  80000],\n",
       "       [    48, 131000],\n",
       "       [    59, 143000],\n",
       "       [    35,  55000],\n",
       "       [    34,  43000],\n",
       "       [    39,  61000],\n",
       "       [    27,  96000],\n",
       "       [    60,  83000],\n",
       "       [    24,  55000],\n",
       "       [    58, 144000],\n",
       "       [    53, 104000],\n",
       "       [    35,  79000],\n",
       "       [    36,  99000],\n",
       "       [    57,  60000],\n",
       "       [    37, 137000],\n",
       "       [    33,  43000],\n",
       "       [    41,  71000],\n",
       "       [    52,  21000],\n",
       "       [    52, 150000],\n",
       "       [    37,  70000],\n",
       "       [    26,  84000],\n",
       "       [    26,  72000],\n",
       "       [    26,  52000],\n",
       "       [    41,  60000],\n",
       "       [    31,  66000],\n",
       "       [    37, 144000],\n",
       "       [    38,  61000],\n",
       "       [    31,  34000],\n",
       "       [    42,  75000],\n",
       "       [    46, 117000],\n",
       "       [    36,  52000],\n",
       "       [    38,  71000],\n",
       "       [    49,  88000],\n",
       "       [    57,  33000],\n",
       "       [    48, 138000],\n",
       "       [    47,  50000],\n",
       "       [    33,  69000],\n",
       "       [    37, 146000],\n",
       "       [    20,  82000],\n",
       "       [    40,  47000],\n",
       "       [    35,  22000],\n",
       "       [    20,  36000],\n",
       "       [    45,  45000],\n",
       "       [    26,  43000],\n",
       "       [    58, 101000],\n",
       "       [    40,  57000],\n",
       "       [    38, 112000],\n",
       "       [    37,  80000],\n",
       "       [    49,  28000],\n",
       "       [    36,  75000],\n",
       "       [    41,  72000],\n",
       "       [    35,  60000],\n",
       "       [    43, 129000],\n",
       "       [    41,  87000],\n",
       "       [    38, 113000],\n",
       "       [    58,  23000],\n",
       "       [    26,  32000],\n",
       "       [    32,  18000],\n",
       "       [    41,  52000],\n",
       "       [    31,  18000],\n",
       "       [    35,  88000],\n",
       "       [    48,  35000],\n",
       "       [    27,  89000],\n",
       "       [    35,  97000],\n",
       "       [    42,  73000],\n",
       "       [    21,  68000],\n",
       "       [    41,  72000],\n",
       "       [    33,  60000],\n",
       "       [    39, 134000],\n",
       "       [    28,  84000],\n",
       "       [    46,  88000],\n",
       "       [    24,  58000],\n",
       "       [    31, 118000],\n",
       "       [    50,  88000],\n",
       "       [    20,  82000],\n",
       "       [    32, 135000],\n",
       "       [    20,  86000],\n",
       "       [    35,  27000],\n",
       "       [    29,  43000],\n",
       "       [    21,  88000],\n",
       "       [    35,  59000],\n",
       "       [    45,  32000],\n",
       "       [    60,  42000],\n",
       "       [    35,  91000],\n",
       "       [    35,  44000],\n",
       "       [    18,  44000],\n",
       "       [    42, 149000],\n",
       "       [    45,  79000],\n",
       "       [    40,  60000],\n",
       "       [    24,  23000],\n",
       "       [    33,  51000],\n",
       "       [    42,  70000],\n",
       "       [    55, 130000],\n",
       "       [    50,  44000],\n",
       "       [    48, 119000],\n",
       "       [    19,  76000],\n",
       "       [    41,  72000],\n",
       "       [    40,  71000],\n",
       "       [    27,  88000],\n",
       "       [    36, 126000],\n",
       "       [    35,  75000],\n",
       "       [    35,  58000],\n",
       "       [    34, 115000],\n",
       "       [    35,  73000],\n",
       "       [    60, 108000],\n",
       "       [    25,  87000],\n",
       "       [    27,  54000],\n",
       "       [    21,  16000],\n",
       "       [    37,  74000],\n",
       "       [    35,  39000],\n",
       "       [    54,  70000],\n",
       "       [    47,  30000],\n",
       "       [    38,  50000],\n",
       "       [    35, 147000],\n",
       "       [    35,  77000],\n",
       "       [    41,  79000],\n",
       "       [    37,  33000],\n",
       "       [    60,  46000],\n",
       "       [    28,  59000],\n",
       "       [    23,  66000],\n",
       "       [    23,  63000],\n",
       "       [    30,  17000],\n",
       "       [    25,  33000],\n",
       "       [    59,  83000],\n",
       "       [    58,  38000],\n",
       "       [    18,  82000],\n",
       "       [    46,  59000],\n",
       "       [    27,  17000],\n",
       "       [    58,  47000],\n",
       "       [    48,  30000],\n",
       "       [    49,  65000],\n",
       "       [    50,  36000],\n",
       "       [    53,  72000],\n",
       "       [    40,  57000],\n",
       "       [    52, 114000],\n",
       "       [    59,  42000],\n",
       "       [    36,  63000],\n",
       "       [    42, 104000],\n",
       "       [    37,  52000],\n",
       "       [    48,  33000],\n",
       "       [    59,  29000],\n",
       "       [    37,  79000],\n",
       "       [    40,  61000],\n",
       "       [    49,  74000],\n",
       "       [    25,  90000],\n",
       "       [    30,  15000],\n",
       "       [    40,  78000],\n",
       "       [    24,  84000],\n",
       "       [    38,  50000],\n",
       "       [    45, 131000],\n",
       "       [    21,  72000],\n",
       "       [    35,  23000],\n",
       "       [    35,  20000],\n",
       "       [    31,  89000],\n",
       "       [    30,  80000],\n",
       "       [    47,  47000],\n",
       "       [    27,  90000],\n",
       "       [    35,  72000],\n",
       "       [    30, 116000],\n",
       "       [    39, 122000],\n",
       "       [    29,  83000],\n",
       "       [    41,  63000],\n",
       "       [    48,  90000],\n",
       "       [    38,  59000],\n",
       "       [    32,  18000],\n",
       "       [    39,  75000],\n",
       "       [    26,  81000],\n",
       "       [    39, 106000],\n",
       "       [    22,  55000],\n",
       "       [    36, 118000],\n",
       "       [    60,  42000],\n",
       "       [    28,  55000],\n",
       "       [    51, 134000],\n",
       "       [    49,  28000],\n",
       "       [    36,  60000],\n",
       "       [    56, 104000],\n",
       "       [    27,  58000],\n",
       "       [    24,  32000],\n",
       "       [    34,  72000],\n",
       "       [    28,  32000],\n",
       "       [    50,  20000],\n",
       "       [    33,  41000],\n",
       "       [    29,  47000],\n",
       "       [    22,  18000],\n",
       "       [    30, 135000],\n",
       "       [    47, 105000],\n",
       "       [    46,  79000],\n",
       "       [    48, 134000],\n",
       "       [    47,  49000],\n",
       "       [    49, 141000],\n",
       "       [    32, 100000],\n",
       "       [    38,  71000],\n",
       "       [    19,  26000],\n",
       "       [    37,  77000],\n",
       "       [    47,  51000],\n",
       "       [    40,  57000],\n",
       "       [    36, 125000],\n",
       "       [    20,  74000],\n",
       "       [    31,  58000],\n",
       "       [    41,  45000],\n",
       "       [    42,  54000],\n",
       "       [    28,  37000],\n",
       "       [    39,  73000],\n",
       "       [    28,  85000],\n",
       "       [    38,  51000],\n",
       "       [    47,  43000],\n",
       "       [    37,  72000],\n",
       "       [    49,  36000],\n",
       "       [    45,  22000],\n",
       "       [    35,  72000],\n",
       "       [    24,  27000],\n",
       "       [    26,  35000],\n",
       "       [    43, 133000],\n",
       "       [    39,  77000],\n",
       "       [    32,  86000]], dtype=int64)"
      ]
     },
     "execution_count": 93,
     "metadata": {},
     "output_type": "execute_result"
    }
   ],
   "source": [
    "x_train"
   ]
  },
  {
   "cell_type": "code",
   "execution_count": 94,
   "id": "693089cc-45d0-41fa-adbd-09d35cf94c10",
   "metadata": {},
   "outputs": [
    {
     "data": {
      "text/plain": [
       "array([[    46,  22000],\n",
       "       [    59,  88000],\n",
       "       [    28,  44000],\n",
       "       [    48,  96000],\n",
       "       [    29,  28000],\n",
       "       [    30,  62000],\n",
       "       [    47, 107000],\n",
       "       [    29,  83000],\n",
       "       [    40,  75000],\n",
       "       [    42,  65000],\n",
       "       [    35,  65000],\n",
       "       [    53,  34000],\n",
       "       [    23,  48000],\n",
       "       [    20,  23000],\n",
       "       [    30,  87000],\n",
       "       [    35, 108000],\n",
       "       [    52,  38000],\n",
       "       [    46,  74000],\n",
       "       [    39,  42000],\n",
       "       [    56,  60000],\n",
       "       [    22,  27000],\n",
       "       [    29,  80000],\n",
       "       [    47,  23000],\n",
       "       [    59,  76000],\n",
       "       [    19,  19000],\n",
       "       [    51,  23000],\n",
       "       [    42,  80000],\n",
       "       [    37,  53000],\n",
       "       [    55, 125000],\n",
       "       [    19,  21000],\n",
       "       [    46,  41000],\n",
       "       [    19,  70000],\n",
       "       [    36, 144000],\n",
       "       [    28,  79000],\n",
       "       [    40, 107000],\n",
       "       [    35,  75000],\n",
       "       [    37,  55000],\n",
       "       [    38,  65000],\n",
       "       [    26,  30000],\n",
       "       [    18,  68000],\n",
       "       [    48,  33000],\n",
       "       [    24,  55000],\n",
       "       [    18,  52000],\n",
       "       [    47,  20000],\n",
       "       [    20,  49000],\n",
       "       [    44, 139000],\n",
       "       [    29,  61000],\n",
       "       [    31,  71000],\n",
       "       [    48,  41000],\n",
       "       [    34,  43000],\n",
       "       [    25,  79000],\n",
       "       [    53,  82000],\n",
       "       [    38,  55000],\n",
       "       [    25,  80000],\n",
       "       [    37,  80000],\n",
       "       [    27,  31000],\n",
       "       [    60, 102000],\n",
       "       [    26, 118000],\n",
       "       [    31,  74000],\n",
       "       [    31,  76000],\n",
       "       [    41,  51000],\n",
       "       [    35,  57000],\n",
       "       [    52,  90000],\n",
       "       [    28,  87000],\n",
       "       [    28,  59000],\n",
       "       [    27, 137000],\n",
       "       [    42,  90000],\n",
       "       [    47, 144000],\n",
       "       [    39,  59000],\n",
       "       [    33, 113000],\n",
       "       [    52, 138000],\n",
       "       [    19,  85000],\n",
       "       [    27,  58000],\n",
       "       [    23,  20000],\n",
       "       [    47,  34000],\n",
       "       [    35,  50000],\n",
       "       [    56, 133000],\n",
       "       [    54,  26000],\n",
       "       [    35,  47000],\n",
       "       [    37,  78000],\n",
       "       [    27,  57000],\n",
       "       [    46,  28000],\n",
       "       [    39, 134000],\n",
       "       [    44,  39000],\n",
       "       [    57,  26000],\n",
       "       [    32, 120000],\n",
       "       [    41,  52000],\n",
       "       [    48,  74000],\n",
       "       [    26,  86000],\n",
       "       [    22,  81000],\n",
       "       [    49,  86000],\n",
       "       [    36,  54000],\n",
       "       [    40,  59000],\n",
       "       [    41,  80000],\n",
       "       [    26,  16000],\n",
       "       [    39,  79000],\n",
       "       [    59, 130000],\n",
       "       [    42,  64000],\n",
       "       [    53, 143000],\n",
       "       [    34, 112000]], dtype=int64)"
      ]
     },
     "execution_count": 94,
     "metadata": {},
     "output_type": "execute_result"
    }
   ],
   "source": [
    "x_test"
   ]
  },
  {
   "cell_type": "code",
   "execution_count": 95,
   "id": "00602fc5-1ecc-4338-8a04-7394421cfaf5",
   "metadata": {},
   "outputs": [],
   "source": [
    "from sklearn.preprocessing import StandardScaler"
   ]
  },
  {
   "cell_type": "code",
   "execution_count": 96,
   "id": "71c1c9cf-b260-44f9-80cf-baf5f08f70ca",
   "metadata": {},
   "outputs": [],
   "source": [
    "SC=StandardScaler()"
   ]
  },
  {
   "cell_type": "code",
   "execution_count": 97,
   "id": "5a6a4542-ad00-4fd0-a297-97f957956961",
   "metadata": {},
   "outputs": [],
   "source": [
    "x_train=SC.fit_transform(x_train)"
   ]
  },
  {
   "cell_type": "code",
   "execution_count": 98,
   "id": "0f1c77ad-f4cf-4ade-9069-e18f086d8fde",
   "metadata": {},
   "outputs": [],
   "source": [
    "x_test=SC.fit_transform(x_test)"
   ]
  },
  {
   "cell_type": "code",
   "execution_count": 99,
   "id": "498cad28-2b3a-4ae1-84fe-2eb84a506602",
   "metadata": {},
   "outputs": [
    {
     "data": {
      "text/plain": [
       "array([[ 0.75872215, -1.41078892],\n",
       "       [ 1.9109871 ,  0.5590031 ],\n",
       "       [-0.83672162, -0.75419158],\n",
       "       [ 0.93599368,  0.79776576],\n",
       "       [-0.74808586, -1.23171691],\n",
       "       [-0.65945009, -0.21697557],\n",
       "       [ 0.84735791,  1.12606443],\n",
       "       [-0.74808586,  0.40977643],\n",
       "       [ 0.22690756,  0.17101376],\n",
       "       [ 0.40417909, -0.12743957],\n",
       "       [-0.21627127, -0.12743957],\n",
       "       [ 1.37917251, -1.05264491],\n",
       "       [-1.27990045, -0.63481024],\n",
       "       [-1.54580774, -1.38094358],\n",
       "       [-0.65945009,  0.52915776],\n",
       "       [-0.21627127,  1.15590977],\n",
       "       [ 1.29053674, -0.93326358],\n",
       "       [ 0.75872215,  0.14116843],\n",
       "       [ 0.13827179, -0.81388224],\n",
       "       [ 1.6450798 , -0.27666624],\n",
       "       [-1.36853621, -1.26156225],\n",
       "       [-0.74808586,  0.32024043],\n",
       "       [ 0.84735791, -1.38094358],\n",
       "       [ 1.9109871 ,  0.20085909],\n",
       "       [-1.63444351, -1.50032492],\n",
       "       [ 1.20190098, -1.38094358],\n",
       "       [ 0.40417909,  0.32024043],\n",
       "       [-0.03899974, -0.48558358],\n",
       "       [ 1.55644404,  1.66328044],\n",
       "       [-1.63444351, -1.44063425],\n",
       "       [ 0.75872215, -0.84372758],\n",
       "       [-1.63444351,  0.02178709],\n",
       "       [-0.1276355 ,  2.23034177],\n",
       "       [-0.83672162,  0.2903951 ],\n",
       "       [ 0.22690756,  1.12606443],\n",
       "       [-0.21627127,  0.17101376],\n",
       "       [-0.03899974, -0.42589291],\n",
       "       [ 0.04963603, -0.12743957],\n",
       "       [-1.01399315, -1.17202625],\n",
       "       [-1.72307927, -0.03790357],\n",
       "       [ 0.93599368, -1.08249025],\n",
       "       [-1.19126468, -0.42589291],\n",
       "       [-1.72307927, -0.51542891],\n",
       "       [ 0.84735791, -1.47047958],\n",
       "       [-1.54580774, -0.60496491],\n",
       "       [ 0.58145062,  2.08111511],\n",
       "       [-0.74808586, -0.24682091],\n",
       "       [-0.57081433,  0.05163243],\n",
       "       [ 0.93599368, -0.84372758],\n",
       "       [-0.30490703, -0.78403691],\n",
       "       [-1.10262892,  0.2903951 ],\n",
       "       [ 1.37917251,  0.3799311 ],\n",
       "       [ 0.04963603, -0.42589291],\n",
       "       [-1.10262892,  0.32024043],\n",
       "       [-0.03899974,  0.32024043],\n",
       "       [-0.92535739, -1.14218091],\n",
       "       [ 1.99962286,  0.97683777],\n",
       "       [-1.01399315,  1.4543631 ],\n",
       "       [-0.57081433,  0.14116843],\n",
       "       [-0.57081433,  0.20085909],\n",
       "       [ 0.31554332, -0.54527424],\n",
       "       [-0.21627127, -0.36620224],\n",
       "       [ 1.29053674,  0.61869376],\n",
       "       [-0.83672162,  0.52915776],\n",
       "       [-0.83672162, -0.30651158],\n",
       "       [-0.92535739,  2.02142444],\n",
       "       [ 0.40417909,  0.61869376],\n",
       "       [ 0.84735791,  2.23034177],\n",
       "       [ 0.13827179, -0.30651158],\n",
       "       [-0.3935428 ,  1.30513643],\n",
       "       [ 1.29053674,  2.05126977],\n",
       "       [-1.63444351,  0.4694671 ],\n",
       "       [-0.92535739, -0.33635691],\n",
       "       [-1.27990045, -1.47047958],\n",
       "       [ 0.84735791, -1.05264491],\n",
       "       [-0.21627127, -0.57511958],\n",
       "       [ 1.6450798 ,  1.9020431 ],\n",
       "       [ 1.46780827, -1.29140758],\n",
       "       [-0.21627127, -0.66465558],\n",
       "       [-0.03899974,  0.26054976],\n",
       "       [-0.92535739, -0.36620224],\n",
       "       [ 0.75872215, -1.23171691],\n",
       "       [ 0.13827179,  1.93188844],\n",
       "       [ 0.58145062, -0.90341825],\n",
       "       [ 1.73371557, -1.29140758],\n",
       "       [-0.48217856,  1.51405377],\n",
       "       [ 0.31554332, -0.51542891],\n",
       "       [ 0.93599368,  0.14116843],\n",
       "       [-1.01399315,  0.49931243],\n",
       "       [-1.36853621,  0.35008576],\n",
       "       [ 1.02462945,  0.49931243],\n",
       "       [-0.1276355 , -0.45573824],\n",
       "       [ 0.22690756, -0.30651158],\n",
       "       [ 0.31554332,  0.32024043],\n",
       "       [-1.01399315, -1.58986092],\n",
       "       [ 0.13827179,  0.2903951 ],\n",
       "       [ 1.9109871 ,  1.8125071 ],\n",
       "       [ 0.40417909, -0.15728491],\n",
       "       [ 1.37917251,  2.20049644],\n",
       "       [-0.30490703,  1.2752911 ]])"
      ]
     },
     "execution_count": 99,
     "metadata": {},
     "output_type": "execute_result"
    }
   ],
   "source": [
    "x_test"
   ]
  },
  {
   "cell_type": "code",
   "execution_count": 100,
   "id": "7e27eda0-ee51-4ad2-96e1-d5e1ad6d23e9",
   "metadata": {},
   "outputs": [
    {
     "data": {
      "text/plain": [
       "numpy.ndarray"
      ]
     },
     "execution_count": 100,
     "metadata": {},
     "output_type": "execute_result"
    }
   ],
   "source": [
    "type(x_train)"
   ]
  },
  {
   "cell_type": "code",
   "execution_count": 101,
   "id": "6c2843f3-6156-4527-a0c2-2e73e78d465f",
   "metadata": {},
   "outputs": [],
   "source": [
    "x_train=pd.DataFrame(x_train,columns=['Age','Salary'])\n",
    "x_test= pd.DataFrame(x_test,columns=['Age','Salary'])"
   ]
  },
  {
   "cell_type": "code",
   "execution_count": 102,
   "id": "2b849ad8-de27-4e95-aa9e-1750574862a4",
   "metadata": {},
   "outputs": [
    {
     "data": {
      "text/html": [
       "<div>\n",
       "<style scoped>\n",
       "    .dataframe tbody tr th:only-of-type {\n",
       "        vertical-align: middle;\n",
       "    }\n",
       "\n",
       "    .dataframe tbody tr th {\n",
       "        vertical-align: top;\n",
       "    }\n",
       "\n",
       "    .dataframe thead th {\n",
       "        text-align: right;\n",
       "    }\n",
       "</style>\n",
       "<table border=\"1\" class=\"dataframe\">\n",
       "  <thead>\n",
       "    <tr style=\"text-align: right;\">\n",
       "      <th></th>\n",
       "      <th>Age</th>\n",
       "      <th>Salary</th>\n",
       "    </tr>\n",
       "  </thead>\n",
       "  <tbody>\n",
       "    <tr>\n",
       "      <th>0</th>\n",
       "      <td>1.892589</td>\n",
       "      <td>1.521894</td>\n",
       "    </tr>\n",
       "    <tr>\n",
       "      <th>1</th>\n",
       "      <td>0.125038</td>\n",
       "      <td>0.032132</td>\n",
       "    </tr>\n",
       "    <tr>\n",
       "      <th>2</th>\n",
       "      <td>0.910616</td>\n",
       "      <td>-1.311575</td>\n",
       "    </tr>\n",
       "    <tr>\n",
       "      <th>3</th>\n",
       "      <td>-1.347922</td>\n",
       "      <td>-1.486841</td>\n",
       "    </tr>\n",
       "    <tr>\n",
       "      <th>4</th>\n",
       "      <td>-0.169554</td>\n",
       "      <td>-0.581299</td>\n",
       "    </tr>\n",
       "    <tr>\n",
       "      <th>...</th>\n",
       "      <td>...</td>\n",
       "      <td>...</td>\n",
       "    </tr>\n",
       "    <tr>\n",
       "      <th>295</th>\n",
       "      <td>-1.347922</td>\n",
       "      <td>-1.253153</td>\n",
       "    </tr>\n",
       "    <tr>\n",
       "      <th>296</th>\n",
       "      <td>-1.151527</td>\n",
       "      <td>-1.019465</td>\n",
       "    </tr>\n",
       "    <tr>\n",
       "      <th>297</th>\n",
       "      <td>0.517827</td>\n",
       "      <td>1.843215</td>\n",
       "    </tr>\n",
       "    <tr>\n",
       "      <th>298</th>\n",
       "      <td>0.125038</td>\n",
       "      <td>0.207398</td>\n",
       "    </tr>\n",
       "    <tr>\n",
       "      <th>299</th>\n",
       "      <td>-0.562343</td>\n",
       "      <td>0.470297</td>\n",
       "    </tr>\n",
       "  </tbody>\n",
       "</table>\n",
       "<p>300 rows × 2 columns</p>\n",
       "</div>"
      ],
      "text/plain": [
       "          Age    Salary\n",
       "0    1.892589  1.521894\n",
       "1    0.125038  0.032132\n",
       "2    0.910616 -1.311575\n",
       "3   -1.347922 -1.486841\n",
       "4   -0.169554 -0.581299\n",
       "..        ...       ...\n",
       "295 -1.347922 -1.253153\n",
       "296 -1.151527 -1.019465\n",
       "297  0.517827  1.843215\n",
       "298  0.125038  0.207398\n",
       "299 -0.562343  0.470297\n",
       "\n",
       "[300 rows x 2 columns]"
      ]
     },
     "execution_count": 102,
     "metadata": {},
     "output_type": "execute_result"
    }
   ],
   "source": [
    "x_train"
   ]
  },
  {
   "cell_type": "code",
   "execution_count": 103,
   "id": "cca54fe8-0450-4fbb-a1de-6ed9720036e2",
   "metadata": {},
   "outputs": [],
   "source": [
    "# training logistic reression model \n",
    "from sklearn.linear_model import LogisticRegression"
   ]
  },
  {
   "cell_type": "code",
   "execution_count": 104,
   "id": "a4536e4b-0dde-4cff-97c8-8f6266102192",
   "metadata": {},
   "outputs": [],
   "source": [
    "LR=LogisticRegression()"
   ]
  },
  {
   "cell_type": "code",
   "execution_count": 105,
   "id": "b8ab5673-8e22-4b6b-9e60-a7c6ee6377d2",
   "metadata": {},
   "outputs": [
    {
     "data": {
      "text/html": [
       "<style>#sk-container-id-5 {color: black;background-color: white;}#sk-container-id-5 pre{padding: 0;}#sk-container-id-5 div.sk-toggleable {background-color: white;}#sk-container-id-5 label.sk-toggleable__label {cursor: pointer;display: block;width: 100%;margin-bottom: 0;padding: 0.3em;box-sizing: border-box;text-align: center;}#sk-container-id-5 label.sk-toggleable__label-arrow:before {content: \"▸\";float: left;margin-right: 0.25em;color: #696969;}#sk-container-id-5 label.sk-toggleable__label-arrow:hover:before {color: black;}#sk-container-id-5 div.sk-estimator:hover label.sk-toggleable__label-arrow:before {color: black;}#sk-container-id-5 div.sk-toggleable__content {max-height: 0;max-width: 0;overflow: hidden;text-align: left;background-color: #f0f8ff;}#sk-container-id-5 div.sk-toggleable__content pre {margin: 0.2em;color: black;border-radius: 0.25em;background-color: #f0f8ff;}#sk-container-id-5 input.sk-toggleable__control:checked~div.sk-toggleable__content {max-height: 200px;max-width: 100%;overflow: auto;}#sk-container-id-5 input.sk-toggleable__control:checked~label.sk-toggleable__label-arrow:before {content: \"▾\";}#sk-container-id-5 div.sk-estimator input.sk-toggleable__control:checked~label.sk-toggleable__label {background-color: #d4ebff;}#sk-container-id-5 div.sk-label input.sk-toggleable__control:checked~label.sk-toggleable__label {background-color: #d4ebff;}#sk-container-id-5 input.sk-hidden--visually {border: 0;clip: rect(1px 1px 1px 1px);clip: rect(1px, 1px, 1px, 1px);height: 1px;margin: -1px;overflow: hidden;padding: 0;position: absolute;width: 1px;}#sk-container-id-5 div.sk-estimator {font-family: monospace;background-color: #f0f8ff;border: 1px dotted black;border-radius: 0.25em;box-sizing: border-box;margin-bottom: 0.5em;}#sk-container-id-5 div.sk-estimator:hover {background-color: #d4ebff;}#sk-container-id-5 div.sk-parallel-item::after {content: \"\";width: 100%;border-bottom: 1px solid gray;flex-grow: 1;}#sk-container-id-5 div.sk-label:hover label.sk-toggleable__label {background-color: #d4ebff;}#sk-container-id-5 div.sk-serial::before {content: \"\";position: absolute;border-left: 1px solid gray;box-sizing: border-box;top: 0;bottom: 0;left: 50%;z-index: 0;}#sk-container-id-5 div.sk-serial {display: flex;flex-direction: column;align-items: center;background-color: white;padding-right: 0.2em;padding-left: 0.2em;position: relative;}#sk-container-id-5 div.sk-item {position: relative;z-index: 1;}#sk-container-id-5 div.sk-parallel {display: flex;align-items: stretch;justify-content: center;background-color: white;position: relative;}#sk-container-id-5 div.sk-item::before, #sk-container-id-5 div.sk-parallel-item::before {content: \"\";position: absolute;border-left: 1px solid gray;box-sizing: border-box;top: 0;bottom: 0;left: 50%;z-index: -1;}#sk-container-id-5 div.sk-parallel-item {display: flex;flex-direction: column;z-index: 1;position: relative;background-color: white;}#sk-container-id-5 div.sk-parallel-item:first-child::after {align-self: flex-end;width: 50%;}#sk-container-id-5 div.sk-parallel-item:last-child::after {align-self: flex-start;width: 50%;}#sk-container-id-5 div.sk-parallel-item:only-child::after {width: 0;}#sk-container-id-5 div.sk-dashed-wrapped {border: 1px dashed gray;margin: 0 0.4em 0.5em 0.4em;box-sizing: border-box;padding-bottom: 0.4em;background-color: white;}#sk-container-id-5 div.sk-label label {font-family: monospace;font-weight: bold;display: inline-block;line-height: 1.2em;}#sk-container-id-5 div.sk-label-container {text-align: center;}#sk-container-id-5 div.sk-container {/* jupyter's `normalize.less` sets `[hidden] { display: none; }` but bootstrap.min.css set `[hidden] { display: none !important; }` so we also need the `!important` here to be able to override the default hidden behavior on the sphinx rendered scikit-learn.org. See: https://github.com/scikit-learn/scikit-learn/issues/21755 */display: inline-block !important;position: relative;}#sk-container-id-5 div.sk-text-repr-fallback {display: none;}</style><div id=\"sk-container-id-5\" class=\"sk-top-container\"><div class=\"sk-text-repr-fallback\"><pre>LogisticRegression()</pre><b>In a Jupyter environment, please rerun this cell to show the HTML representation or trust the notebook. <br />On GitHub, the HTML representation is unable to render, please try loading this page with nbviewer.org.</b></div><div class=\"sk-container\" hidden><div class=\"sk-item\"><div class=\"sk-estimator sk-toggleable\"><input class=\"sk-toggleable__control sk-hidden--visually\" id=\"sk-estimator-id-5\" type=\"checkbox\" checked><label for=\"sk-estimator-id-5\" class=\"sk-toggleable__label sk-toggleable__label-arrow\">LogisticRegression</label><div class=\"sk-toggleable__content\"><pre>LogisticRegression()</pre></div></div></div></div></div>"
      ],
      "text/plain": [
       "LogisticRegression()"
      ]
     },
     "execution_count": 105,
     "metadata": {},
     "output_type": "execute_result"
    }
   ],
   "source": [
    "LR.fit(x_train,y_train)"
   ]
  },
  {
   "cell_type": "code",
   "execution_count": 106,
   "id": "a57ed9fc-4cc9-4770-8688-4389ec25dd95",
   "metadata": {},
   "outputs": [],
   "source": [
    "y_pred=LR.predict(x_test)"
   ]
  },
  {
   "cell_type": "code",
   "execution_count": 107,
   "id": "429338a9-ab34-4cf9-a53c-eaae08f10ffd",
   "metadata": {},
   "outputs": [
    {
     "data": {
      "text/plain": [
       "array([0, 1, 0, 1, 0, 0, 1, 0, 0, 0, 0, 1, 0, 0, 0, 0, 1, 1, 0, 1, 0, 0,\n",
       "       0, 1, 0, 0, 1, 0, 1, 0, 0, 0, 1, 0, 1, 0, 0, 0, 0, 0, 0, 0, 0, 0,\n",
       "       0, 1, 0, 0, 0, 0, 0, 1, 0, 0, 0, 0, 1, 0, 0, 0, 0, 0, 1, 0, 0, 0,\n",
       "       1, 1, 0, 0, 1, 0, 0, 0, 0, 0, 1, 1, 0, 0, 0, 0, 1, 0, 1, 0, 0, 1,\n",
       "       0, 0, 1, 0, 0, 0, 0, 0, 1, 0, 1, 0], dtype=int64)"
      ]
     },
     "execution_count": 107,
     "metadata": {},
     "output_type": "execute_result"
    }
   ],
   "source": [
    "y_pred"
   ]
  },
  {
   "cell_type": "code",
   "execution_count": 108,
   "id": "bb6cd67c-e4a0-4d40-a809-705bc160ebe4",
   "metadata": {},
   "outputs": [
    {
     "data": {
      "text/plain": [
       "array([0, 1, 0, 1, 0, 0, 1, 0, 0, 0, 0, 1, 0, 0, 0, 0, 1, 0, 0, 1, 0, 0,\n",
       "       1, 1, 0, 1, 0, 0, 1, 0, 1, 0, 1, 0, 1, 0, 0, 0, 0, 0, 1, 0, 0, 1,\n",
       "       0, 1, 0, 0, 1, 0, 0, 1, 0, 0, 0, 0, 1, 0, 0, 0, 0, 0, 1, 0, 0, 1,\n",
       "       1, 1, 0, 0, 1, 0, 0, 0, 1, 0, 1, 1, 0, 1, 0, 1, 1, 0, 1, 1, 0, 1,\n",
       "       0, 0, 1, 0, 0, 0, 0, 0, 1, 0, 1, 1], dtype=int64)"
      ]
     },
     "execution_count": 108,
     "metadata": {},
     "output_type": "execute_result"
    }
   ],
   "source": [
    "y_test"
   ]
  },
  {
   "cell_type": "code",
   "execution_count": 109,
   "id": "378dc732-b60a-4f65-b6e4-b63e1f0e9a0c",
   "metadata": {},
   "outputs": [],
   "source": [
    "#Confusion matrix\n",
    "#it is a matrix that summarizes the performance of a machine learning \n",
    "from sklearn.metrics import confusion_matrix\n",
    "CM=confusion_matrix(y_pred,y_test)"
   ]
  },
  {
   "cell_type": "code",
   "execution_count": 110,
   "id": "48210cec-e0d3-4a6c-b448-57f8fab510ab",
   "metadata": {},
   "outputs": [
    {
     "data": {
      "text/plain": [
       "array([[61, 12],\n",
       "       [ 2, 25]], dtype=int64)"
      ]
     },
     "execution_count": 110,
     "metadata": {},
     "output_type": "execute_result"
    }
   ],
   "source": [
    "CM"
   ]
  },
  {
   "cell_type": "code",
   "execution_count": 111,
   "id": "ad9b5d11-470d-488b-adc6-c6599d537a4a",
   "metadata": {},
   "outputs": [
    {
     "name": "stdout",
     "output_type": "stream",
     "text": [
      "The accuracy of our logistic regression model is : 0.86\n"
     ]
    }
   ],
   "source": [
    "#performance measure => accuracy\n",
    "from sklearn.metrics import accuracy_score,classification_report\n",
    "AS= accuracy_score(y_pred,y_test)\n",
    "print('The accuracy of our logistic regression model is :',AS)"
   ]
  },
  {
   "cell_type": "code",
   "execution_count": 112,
   "id": "8b14692b-f133-4c19-b293-fa2375d4348f",
   "metadata": {},
   "outputs": [
    {
     "name": "stdout",
     "output_type": "stream",
     "text": [
      "              precision    recall  f1-score   support\n",
      "\n",
      "           0       0.97      0.84      0.90        73\n",
      "           1       0.68      0.93      0.78        27\n",
      "\n",
      "    accuracy                           0.86       100\n",
      "   macro avg       0.82      0.88      0.84       100\n",
      "weighted avg       0.89      0.86      0.87       100\n",
      "\n"
     ]
    }
   ],
   "source": [
    "# classification report \n",
    "print(classification_report(y_pred,y_test))"
   ]
  },
  {
   "cell_type": "code",
   "execution_count": 115,
   "id": "6c7135c5-1aca-4352-9569-cb60b358a5b9",
   "metadata": {},
   "outputs": [
    {
     "name": "stdout",
     "output_type": "stream",
     "text": [
      "Note: you may need to restart the kernel to use updated packages.\n"
     ]
    },
    {
     "name": "stderr",
     "output_type": "stream",
     "text": [
      "WARNING: Retrying (Retry(total=4, connect=None, read=None, redirect=None, status=None)) after connection broken by 'NewConnectionError('<pip._vendor.urllib3.connection.HTTPSConnection object at 0x000001B868167E50>: Failed to establish a new connection: [Errno 11001] getaddrinfo failed')': /simple/textblob/\n",
      "WARNING: Retrying (Retry(total=3, connect=None, read=None, redirect=None, status=None)) after connection broken by 'NewConnectionError('<pip._vendor.urllib3.connection.HTTPSConnection object at 0x000001B868184F10>: Failed to establish a new connection: [Errno 11001] getaddrinfo failed')': /simple/textblob/\n",
      "WARNING: Retrying (Retry(total=2, connect=None, read=None, redirect=None, status=None)) after connection broken by 'NewConnectionError('<pip._vendor.urllib3.connection.HTTPSConnection object at 0x000001B8681796D0>: Failed to establish a new connection: [Errno 11001] getaddrinfo failed')': /simple/textblob/\n",
      "WARNING: Retrying (Retry(total=1, connect=None, read=None, redirect=None, status=None)) after connection broken by 'NewConnectionError('<pip._vendor.urllib3.connection.HTTPSConnection object at 0x000001B8681740D0>: Failed to establish a new connection: [Errno 11001] getaddrinfo failed')': /simple/textblob/\n",
      "WARNING: Retrying (Retry(total=0, connect=None, read=None, redirect=None, status=None)) after connection broken by 'NewConnectionError('<pip._vendor.urllib3.connection.HTTPSConnection object at 0x000001B868177A90>: Failed to establish a new connection: [Errno 11001] getaddrinfo failed')': /simple/textblob/\n",
      "ERROR: Could not find a version that satisfies the requirement textblob (from versions: none)\n",
      "ERROR: No matching distribution found for textblob\n"
     ]
    }
   ],
   "source": [
    "pip install -U textblob"
   ]
  },
  {
   "cell_type": "code",
   "execution_count": null,
   "id": "01a96851-7680-4299-805f-dc89eea9b173",
   "metadata": {},
   "outputs": [],
   "source": []
  },
  {
   "cell_type": "code",
   "execution_count": null,
   "id": "128e50c1-a96f-4b84-812a-17f1d03a58dc",
   "metadata": {},
   "outputs": [],
   "source": []
  },
  {
   "cell_type": "code",
   "execution_count": null,
   "id": "aa0670f7-1a89-45b5-bd46-a4a600d47ab9",
   "metadata": {},
   "outputs": [],
   "source": []
  },
  {
   "cell_type": "code",
   "execution_count": null,
   "id": "63b3f5cb-ed05-4f93-995f-4bfd2c158015",
   "metadata": {},
   "outputs": [],
   "source": []
  },
  {
   "cell_type": "code",
   "execution_count": null,
   "id": "51ea3651-d7a8-434a-9b84-147d886bb3e5",
   "metadata": {},
   "outputs": [],
   "source": []
  }
 ],
 "metadata": {
  "kernelspec": {
   "display_name": "Python 3 (ipykernel)",
   "language": "python",
   "name": "python3"
  },
  "language_info": {
   "codemirror_mode": {
    "name": "ipython",
    "version": 3
   },
   "file_extension": ".py",
   "mimetype": "text/x-python",
   "name": "python",
   "nbconvert_exporter": "python",
   "pygments_lexer": "ipython3",
   "version": "3.11.7"
  }
 },
 "nbformat": 4,
 "nbformat_minor": 5
}
