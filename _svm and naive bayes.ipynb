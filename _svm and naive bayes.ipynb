{
 "cells": [
  {
   "cell_type": "code",
   "execution_count": 8,
   "id": "74af4d0d-9033-40a8-aa8f-c78c727a5b44",
   "metadata": {},
   "outputs": [],
   "source": [
    "#import libraries\n",
    "import pandas as pd \n",
    "import numpy as np \n",
    "import matplotlib.pyplot as plt \n",
    "import seaborn as sns"
   ]
  },
  {
   "cell_type": "code",
   "execution_count": 9,
   "id": "244e26e1-d27b-4a8a-99bb-b9a385ee7f5c",
   "metadata": {},
   "outputs": [],
   "source": [
    "data=pd.read_csv('iphone.csv')"
   ]
  },
  {
   "cell_type": "code",
   "execution_count": 11,
   "id": "37463962-d602-40ff-8bc6-5a1ae2ab663b",
   "metadata": {},
   "outputs": [
    {
     "data": {
      "text/html": [
       "<div>\n",
       "<style scoped>\n",
       "    .dataframe tbody tr th:only-of-type {\n",
       "        vertical-align: middle;\n",
       "    }\n",
       "\n",
       "    .dataframe tbody tr th {\n",
       "        vertical-align: top;\n",
       "    }\n",
       "\n",
       "    .dataframe thead th {\n",
       "        text-align: right;\n",
       "    }\n",
       "</style>\n",
       "<table border=\"1\" class=\"dataframe\">\n",
       "  <thead>\n",
       "    <tr style=\"text-align: right;\">\n",
       "      <th></th>\n",
       "      <th>Gender</th>\n",
       "      <th>Age</th>\n",
       "      <th>Salary</th>\n",
       "      <th>Purchase Iphone</th>\n",
       "    </tr>\n",
       "  </thead>\n",
       "  <tbody>\n",
       "    <tr>\n",
       "      <th>0</th>\n",
       "      <td>Male</td>\n",
       "      <td>19</td>\n",
       "      <td>19000</td>\n",
       "      <td>0</td>\n",
       "    </tr>\n",
       "    <tr>\n",
       "      <th>1</th>\n",
       "      <td>Male</td>\n",
       "      <td>35</td>\n",
       "      <td>20000</td>\n",
       "      <td>0</td>\n",
       "    </tr>\n",
       "    <tr>\n",
       "      <th>2</th>\n",
       "      <td>Female</td>\n",
       "      <td>26</td>\n",
       "      <td>43000</td>\n",
       "      <td>0</td>\n",
       "    </tr>\n",
       "    <tr>\n",
       "      <th>3</th>\n",
       "      <td>Female</td>\n",
       "      <td>27</td>\n",
       "      <td>57000</td>\n",
       "      <td>0</td>\n",
       "    </tr>\n",
       "    <tr>\n",
       "      <th>4</th>\n",
       "      <td>Male</td>\n",
       "      <td>19</td>\n",
       "      <td>76000</td>\n",
       "      <td>0</td>\n",
       "    </tr>\n",
       "    <tr>\n",
       "      <th>...</th>\n",
       "      <td>...</td>\n",
       "      <td>...</td>\n",
       "      <td>...</td>\n",
       "      <td>...</td>\n",
       "    </tr>\n",
       "    <tr>\n",
       "      <th>395</th>\n",
       "      <td>Female</td>\n",
       "      <td>46</td>\n",
       "      <td>41000</td>\n",
       "      <td>1</td>\n",
       "    </tr>\n",
       "    <tr>\n",
       "      <th>396</th>\n",
       "      <td>Male</td>\n",
       "      <td>51</td>\n",
       "      <td>23000</td>\n",
       "      <td>1</td>\n",
       "    </tr>\n",
       "    <tr>\n",
       "      <th>397</th>\n",
       "      <td>Female</td>\n",
       "      <td>50</td>\n",
       "      <td>20000</td>\n",
       "      <td>1</td>\n",
       "    </tr>\n",
       "    <tr>\n",
       "      <th>398</th>\n",
       "      <td>Male</td>\n",
       "      <td>36</td>\n",
       "      <td>33000</td>\n",
       "      <td>0</td>\n",
       "    </tr>\n",
       "    <tr>\n",
       "      <th>399</th>\n",
       "      <td>Female</td>\n",
       "      <td>49</td>\n",
       "      <td>36000</td>\n",
       "      <td>1</td>\n",
       "    </tr>\n",
       "  </tbody>\n",
       "</table>\n",
       "<p>400 rows × 4 columns</p>\n",
       "</div>"
      ],
      "text/plain": [
       "     Gender  Age  Salary  Purchase Iphone\n",
       "0      Male   19   19000                0\n",
       "1      Male   35   20000                0\n",
       "2    Female   26   43000                0\n",
       "3    Female   27   57000                0\n",
       "4      Male   19   76000                0\n",
       "..      ...  ...     ...              ...\n",
       "395  Female   46   41000                1\n",
       "396    Male   51   23000                1\n",
       "397  Female   50   20000                1\n",
       "398    Male   36   33000                0\n",
       "399  Female   49   36000                1\n",
       "\n",
       "[400 rows x 4 columns]"
      ]
     },
     "execution_count": 11,
     "metadata": {},
     "output_type": "execute_result"
    }
   ],
   "source": [
    "data"
   ]
  },
  {
   "cell_type": "code",
   "execution_count": 15,
   "id": "4d173b5f-d189-4824-9f78-3fb791a63df0",
   "metadata": {},
   "outputs": [
    {
     "data": {
      "text/plain": [
       "Gender             0\n",
       "Age                0\n",
       "Salary             0\n",
       "Purchase Iphone    0\n",
       "dtype: int64"
      ]
     },
     "execution_count": 15,
     "metadata": {},
     "output_type": "execute_result"
    }
   ],
   "source": [
    "data.isnull().sum()"
   ]
  },
  {
   "cell_type": "code",
   "execution_count": 16,
   "id": "97511499-8938-46c5-a0f6-f9807213d958",
   "metadata": {},
   "outputs": [
    {
     "name": "stdout",
     "output_type": "stream",
     "text": [
      "<class 'pandas.core.frame.DataFrame'>\n",
      "RangeIndex: 400 entries, 0 to 399\n",
      "Data columns (total 4 columns):\n",
      " #   Column           Non-Null Count  Dtype \n",
      "---  ------           --------------  ----- \n",
      " 0   Gender           400 non-null    object\n",
      " 1   Age              400 non-null    int64 \n",
      " 2   Salary           400 non-null    int64 \n",
      " 3   Purchase Iphone  400 non-null    int64 \n",
      "dtypes: int64(3), object(1)\n",
      "memory usage: 12.6+ KB\n"
     ]
    }
   ],
   "source": [
    "data.info()"
   ]
  },
  {
   "cell_type": "code",
   "execution_count": 18,
   "id": "2c2ae814-fe23-4df7-938d-2504bdad516d",
   "metadata": {},
   "outputs": [],
   "source": [
    "# seperate data into x and y \n",
    "x=data.iloc[:,:-1].values\n",
    "y=data.iloc[:,3].values"
   ]
  },
  {
   "cell_type": "code",
   "execution_count": 20,
   "id": "83109d9d-b673-4a56-9c40-ac15e30a0379",
   "metadata": {},
   "outputs": [
    {
     "data": {
      "text/plain": [
       "array([['Male', 19, 19000],\n",
       "       ['Male', 35, 20000],\n",
       "       ['Female', 26, 43000],\n",
       "       ...,\n",
       "       ['Female', 50, 20000],\n",
       "       ['Male', 36, 33000],\n",
       "       ['Female', 49, 36000]], dtype=object)"
      ]
     },
     "execution_count": 20,
     "metadata": {},
     "output_type": "execute_result"
    }
   ],
   "source": [
    "x"
   ]
  },
  {
   "cell_type": "code",
   "execution_count": 21,
   "id": "95cad724-6384-4046-bd43-a260fd3d6d76",
   "metadata": {},
   "outputs": [],
   "source": [
    "# label encoder \n",
    "from sklearn.preprocessing import LabelEncoder\n",
    "le=LabelEncoder()\n",
    "x[:,0]=le.fit_transform(x[:,0])"
   ]
  },
  {
   "cell_type": "code",
   "execution_count": 22,
   "id": "32b263d6-848e-4359-880e-faaf31c34f85",
   "metadata": {},
   "outputs": [
    {
     "data": {
      "text/plain": [
       "array([[1, 19, 19000],\n",
       "       [1, 35, 20000],\n",
       "       [0, 26, 43000],\n",
       "       ...,\n",
       "       [0, 50, 20000],\n",
       "       [1, 36, 33000],\n",
       "       [0, 49, 36000]], dtype=object)"
      ]
     },
     "execution_count": 22,
     "metadata": {},
     "output_type": "execute_result"
    }
   ],
   "source": [
    "x"
   ]
  },
  {
   "cell_type": "code",
   "execution_count": 93,
   "id": "60f7038b-854c-481b-9de0-a01e55ff0d44",
   "metadata": {},
   "outputs": [],
   "source": [
    "# split the data into train and test \n",
    "from sklearn.model_selection import train_test_split\n",
    "x_train,x_test,y_train,y_test=train_test_split(x,y,test_size=0.25,random_state=0)"
   ]
  },
  {
   "cell_type": "code",
   "execution_count": 94,
   "id": "3157da5a-450b-4cda-b99c-6b27c2ad9e78",
   "metadata": {},
   "outputs": [
    {
     "data": {
      "text/plain": [
       "array([[0, 44, 39000],\n",
       "       [1, 32, 120000],\n",
       "       [0, 38, 50000],\n",
       "       [0, 32, 135000],\n",
       "       [0, 52, 21000],\n",
       "       [0, 53, 104000],\n",
       "       [1, 39, 42000],\n",
       "       [1, 38, 61000],\n",
       "       [0, 36, 50000],\n",
       "       [0, 36, 63000],\n",
       "       [0, 35, 25000],\n",
       "       [1, 35, 50000],\n",
       "       [1, 42, 73000],\n",
       "       [0, 47, 49000],\n",
       "       [0, 59, 29000],\n",
       "       [1, 49, 65000],\n",
       "       [0, 45, 131000],\n",
       "       [0, 31, 89000],\n",
       "       [0, 46, 82000],\n",
       "       [0, 47, 51000],\n",
       "       [1, 26, 15000],\n",
       "       [1, 60, 102000],\n",
       "       [0, 38, 112000],\n",
       "       [1, 40, 107000],\n",
       "       [0, 42, 53000],\n",
       "       [1, 35, 59000],\n",
       "       [1, 48, 41000],\n",
       "       [0, 48, 134000],\n",
       "       [0, 38, 113000],\n",
       "       [1, 29, 148000],\n",
       "       [0, 26, 15000],\n",
       "       [1, 60, 42000],\n",
       "       [1, 24, 19000],\n",
       "       [1, 42, 149000],\n",
       "       [0, 46, 96000],\n",
       "       [1, 28, 59000],\n",
       "       [1, 39, 96000],\n",
       "       [1, 28, 89000],\n",
       "       [1, 41, 72000],\n",
       "       [1, 45, 26000],\n",
       "       [0, 33, 69000],\n",
       "       [0, 20, 82000],\n",
       "       [1, 31, 74000],\n",
       "       [1, 42, 80000],\n",
       "       [0, 35, 72000],\n",
       "       [0, 33, 149000],\n",
       "       [1, 40, 71000],\n",
       "       [0, 51, 146000],\n",
       "       [1, 46, 79000],\n",
       "       [1, 35, 75000],\n",
       "       [1, 38, 51000],\n",
       "       [0, 36, 75000],\n",
       "       [0, 37, 78000],\n",
       "       [1, 38, 61000],\n",
       "       [0, 60, 108000],\n",
       "       [0, 20, 82000],\n",
       "       [1, 57, 74000],\n",
       "       [1, 42, 65000],\n",
       "       [1, 26, 80000],\n",
       "       [1, 46, 117000],\n",
       "       [1, 35, 61000],\n",
       "       [0, 21, 68000],\n",
       "       [0, 28, 44000],\n",
       "       [1, 41, 87000],\n",
       "       [0, 37, 33000],\n",
       "       [1, 27, 90000],\n",
       "       [1, 39, 42000],\n",
       "       [1, 28, 123000],\n",
       "       [0, 31, 118000],\n",
       "       [1, 25, 87000],\n",
       "       [0, 35, 71000],\n",
       "       [1, 37, 70000],\n",
       "       [1, 35, 39000],\n",
       "       [1, 47, 23000],\n",
       "       [0, 35, 147000],\n",
       "       [0, 48, 138000],\n",
       "       [1, 26, 86000],\n",
       "       [1, 25, 79000],\n",
       "       [0, 52, 138000],\n",
       "       [1, 51, 23000],\n",
       "       [0, 35, 60000],\n",
       "       [0, 33, 113000],\n",
       "       [1, 30, 107000],\n",
       "       [1, 48, 33000],\n",
       "       [0, 41, 80000],\n",
       "       [0, 48, 96000],\n",
       "       [1, 31, 18000],\n",
       "       [0, 31, 71000],\n",
       "       [1, 43, 129000],\n",
       "       [0, 59, 76000],\n",
       "       [0, 18, 44000],\n",
       "       [1, 36, 118000],\n",
       "       [0, 42, 90000],\n",
       "       [0, 47, 30000],\n",
       "       [0, 26, 43000],\n",
       "       [1, 40, 78000],\n",
       "       [1, 46, 59000],\n",
       "       [0, 59, 42000],\n",
       "       [0, 46, 74000],\n",
       "       [1, 35, 91000],\n",
       "       [0, 28, 59000],\n",
       "       [1, 40, 57000],\n",
       "       [1, 59, 143000],\n",
       "       [0, 57, 26000],\n",
       "       [0, 52, 38000],\n",
       "       [0, 47, 113000],\n",
       "       [0, 53, 143000],\n",
       "       [1, 35, 27000],\n",
       "       [0, 58, 101000],\n",
       "       [0, 45, 45000],\n",
       "       [0, 23, 82000],\n",
       "       [1, 46, 23000],\n",
       "       [1, 42, 65000],\n",
       "       [0, 28, 84000],\n",
       "       [1, 38, 59000],\n",
       "       [0, 26, 84000],\n",
       "       [0, 29, 28000],\n",
       "       [0, 37, 71000],\n",
       "       [0, 22, 55000],\n",
       "       [0, 48, 35000],\n",
       "       [1, 49, 28000],\n",
       "       [0, 38, 65000],\n",
       "       [0, 27, 17000],\n",
       "       [1, 46, 28000],\n",
       "       [1, 48, 141000],\n",
       "       [0, 26, 17000],\n",
       "       [0, 35, 97000],\n",
       "       [0, 39, 59000],\n",
       "       [0, 24, 27000],\n",
       "       [1, 32, 18000],\n",
       "       [1, 46, 88000],\n",
       "       [1, 35, 58000],\n",
       "       [1, 56, 60000],\n",
       "       [1, 47, 34000],\n",
       "       [0, 40, 72000],\n",
       "       [1, 32, 100000],\n",
       "       [0, 19, 21000],\n",
       "       [1, 25, 90000],\n",
       "       [1, 35, 88000],\n",
       "       [1, 28, 32000],\n",
       "       [0, 50, 20000],\n",
       "       [1, 40, 59000],\n",
       "       [0, 50, 44000],\n",
       "       [1, 35, 72000],\n",
       "       [0, 40, 142000],\n",
       "       [0, 46, 32000],\n",
       "       [0, 39, 71000],\n",
       "       [1, 20, 74000],\n",
       "       [1, 29, 75000],\n",
       "       [1, 31, 76000],\n",
       "       [1, 47, 25000],\n",
       "       [1, 40, 61000],\n",
       "       [1, 34, 112000],\n",
       "       [0, 38, 80000],\n",
       "       [0, 42, 75000],\n",
       "       [0, 47, 47000],\n",
       "       [0, 39, 75000],\n",
       "       [1, 19, 25000],\n",
       "       [0, 37, 80000],\n",
       "       [1, 36, 60000],\n",
       "       [1, 41, 52000],\n",
       "       [1, 36, 125000],\n",
       "       [0, 48, 29000],\n",
       "       [0, 36, 126000],\n",
       "       [0, 51, 134000],\n",
       "       [0, 27, 57000],\n",
       "       [1, 38, 71000],\n",
       "       [0, 39, 61000],\n",
       "       [0, 22, 27000],\n",
       "       [0, 33, 60000],\n",
       "       [1, 48, 74000],\n",
       "       [0, 58, 23000],\n",
       "       [1, 53, 72000],\n",
       "       [0, 32, 117000],\n",
       "       [1, 54, 70000],\n",
       "       [1, 30, 80000],\n",
       "       [0, 58, 95000],\n",
       "       [0, 26, 52000],\n",
       "       [1, 45, 79000],\n",
       "       [1, 24, 55000],\n",
       "       [1, 40, 75000],\n",
       "       [0, 33, 28000],\n",
       "       [0, 44, 139000],\n",
       "       [1, 22, 18000],\n",
       "       [0, 33, 51000],\n",
       "       [0, 43, 133000],\n",
       "       [0, 24, 32000],\n",
       "       [0, 46, 22000],\n",
       "       [1, 35, 55000],\n",
       "       [0, 54, 104000],\n",
       "       [0, 48, 119000],\n",
       "       [1, 35, 53000],\n",
       "       [1, 37, 144000],\n",
       "       [0, 23, 66000],\n",
       "       [0, 37, 137000],\n",
       "       [1, 31, 58000],\n",
       "       [0, 33, 41000],\n",
       "       [0, 45, 22000],\n",
       "       [1, 30, 15000],\n",
       "       [1, 19, 19000],\n",
       "       [1, 49, 74000],\n",
       "       [1, 39, 122000],\n",
       "       [1, 35, 73000],\n",
       "       [1, 39, 71000],\n",
       "       [1, 24, 23000],\n",
       "       [0, 41, 72000],\n",
       "       [0, 29, 83000],\n",
       "       [0, 54, 26000],\n",
       "       [0, 35, 44000],\n",
       "       [1, 37, 75000],\n",
       "       [0, 29, 47000],\n",
       "       [0, 31, 68000],\n",
       "       [1, 42, 54000],\n",
       "       [1, 30, 135000],\n",
       "       [0, 52, 114000],\n",
       "       [0, 50, 36000],\n",
       "       [1, 56, 133000],\n",
       "       [1, 29, 61000],\n",
       "       [1, 30, 89000],\n",
       "       [1, 26, 16000],\n",
       "       [1, 33, 31000],\n",
       "       [0, 41, 72000],\n",
       "       [1, 36, 33000],\n",
       "       [0, 55, 125000],\n",
       "       [0, 48, 131000],\n",
       "       [0, 41, 71000],\n",
       "       [0, 30, 62000],\n",
       "       [1, 37, 72000],\n",
       "       [0, 41, 63000],\n",
       "       [0, 58, 47000],\n",
       "       [0, 30, 116000],\n",
       "       [1, 20, 49000],\n",
       "       [1, 37, 74000],\n",
       "       [1, 41, 59000],\n",
       "       [1, 49, 89000],\n",
       "       [1, 28, 79000],\n",
       "       [0, 53, 82000],\n",
       "       [1, 40, 57000],\n",
       "       [1, 60, 34000],\n",
       "       [1, 35, 108000],\n",
       "       [1, 21, 72000],\n",
       "       [1, 38, 71000],\n",
       "       [1, 39, 106000],\n",
       "       [0, 37, 57000],\n",
       "       [0, 26, 72000],\n",
       "       [0, 35, 23000],\n",
       "       [0, 54, 108000],\n",
       "       [1, 30, 17000],\n",
       "       [1, 39, 134000],\n",
       "       [1, 29, 43000],\n",
       "       [1, 33, 43000],\n",
       "       [1, 35, 38000],\n",
       "       [1, 41, 45000],\n",
       "       [0, 41, 72000],\n",
       "       [0, 39, 134000],\n",
       "       [0, 27, 137000],\n",
       "       [0, 21, 16000],\n",
       "       [1, 26, 32000],\n",
       "       [1, 31, 66000],\n",
       "       [0, 39, 73000],\n",
       "       [1, 41, 79000],\n",
       "       [0, 47, 50000],\n",
       "       [0, 41, 30000],\n",
       "       [0, 37, 93000],\n",
       "       [0, 60, 46000],\n",
       "       [1, 25, 22000],\n",
       "       [0, 28, 37000],\n",
       "       [0, 38, 55000],\n",
       "       [0, 36, 54000],\n",
       "       [0, 20, 36000],\n",
       "       [0, 56, 104000],\n",
       "       [1, 40, 57000],\n",
       "       [0, 42, 108000],\n",
       "       [0, 20, 23000],\n",
       "       [1, 40, 65000],\n",
       "       [1, 47, 20000],\n",
       "       [0, 18, 86000],\n",
       "       [1, 35, 79000],\n",
       "       [0, 57, 33000],\n",
       "       [0, 34, 72000],\n",
       "       [0, 49, 39000],\n",
       "       [0, 27, 31000],\n",
       "       [1, 19, 70000],\n",
       "       [0, 39, 79000],\n",
       "       [1, 26, 81000],\n",
       "       [1, 25, 80000],\n",
       "       [0, 28, 85000],\n",
       "       [1, 55, 39000],\n",
       "       [0, 50, 88000],\n",
       "       [1, 49, 88000],\n",
       "       [1, 52, 150000],\n",
       "       [0, 35, 65000],\n",
       "       [1, 42, 54000],\n",
       "       [1, 34, 43000],\n",
       "       [1, 37, 52000],\n",
       "       [0, 48, 30000],\n",
       "       [1, 29, 43000],\n",
       "       [1, 36, 52000],\n",
       "       [0, 27, 54000],\n",
       "       [0, 26, 118000]], dtype=object)"
      ]
     },
     "execution_count": 94,
     "metadata": {},
     "output_type": "execute_result"
    }
   ],
   "source": [
    "x_train"
   ]
  },
  {
   "cell_type": "code",
   "execution_count": 95,
   "id": "b1ec06e5-fa4e-48ae-94b9-388f1c68267f",
   "metadata": {},
   "outputs": [],
   "source": [
    "# applying scaler \n",
    "from sklearn.preprocessing import StandardScaler\n",
    "SC=StandardScaler()\n",
    "x_train=SC.fit_transform(x_train)\n",
    "x_test=SC.fit_transform(x_test)"
   ]
  },
  {
   "cell_type": "code",
   "execution_count": 96,
   "id": "0738c6b9-c044-43d5-93b8-1ac33c2a473f",
   "metadata": {},
   "outputs": [
    {
     "data": {
      "text/plain": [
       "array([[ 1.02020406, -0.54748976,  0.5130727 ],\n",
       "       [-0.98019606,  0.15442019, -0.61825566],\n",
       "       [ 1.02020406, -0.10879604,  0.14615539],\n",
       "       [-0.98019606, -0.54748976,  0.26846116],\n",
       "       [-0.98019606, -0.10879604, -0.61825566],\n",
       "       [ 1.02020406, -0.81070599, -1.53554892],\n",
       "       [-0.98019606, -0.45975102, -1.68843113],\n",
       "       [ 1.02020406, -0.0210573 ,  2.25592989],\n",
       "       [-0.98019606, -1.60035469, -0.0678797 ],\n",
       "       [ 1.02020406,  0.94406888, -0.83229075],\n",
       "       [ 1.02020406, -0.54748976, -0.6488321 ],\n",
       "       [-0.98019606, -0.72296725, -0.46537345],\n",
       "       [ 1.02020406,  0.06668145, -0.46537345],\n",
       "       [ 1.02020406,  0.24215893,  0.20730828],\n",
       "       [ 1.02020406, -1.4248772 ,  0.48249625],\n",
       "       [-0.98019606, -0.37201227,  1.43036596],\n",
       "       [ 1.02020406,  0.06668145,  0.20730828],\n",
       "       [ 1.02020406, -1.51261594,  0.45191981],\n",
       "       [-0.98019606,  1.64597884,  1.8278597 ],\n",
       "       [ 1.02020406, -0.10879604, -1.47439603],\n",
       "       [-0.98019606, -0.10879604, -0.70998498],\n",
       "       [-0.98019606,  0.94406888,  2.25592989],\n",
       "       [-0.98019606,  0.41763642, -0.58767922],\n",
       "       [ 1.02020406,  0.94406888,  1.06344865],\n",
       "       [-0.98019606, -1.16166097, -1.29093738],\n",
       "       [-0.98019606,  1.11954637,  2.16420057],\n",
       "       [-0.98019606, -0.72296725,  0.5130727 ],\n",
       "       [ 1.02020406, -0.63522851,  0.2990376 ],\n",
       "       [-0.98019606,  0.06668145, -0.25133835],\n",
       "       [-0.98019606, -0.37201227,  0.48249625],\n",
       "       [ 1.02020406, -1.33713846,  0.54364914],\n",
       "       [ 1.02020406,  0.06668145,  0.26846116],\n",
       "       [ 1.02020406,  1.82145632, -0.31249124],\n",
       "       [ 1.02020406,  0.06668145, -0.52652633],\n",
       "       [ 1.02020406, -1.07392223, -0.37364412],\n",
       "       [ 1.02020406, -1.60035469, -0.55710277],\n",
       "       [ 1.02020406, -1.24939971,  0.32961404],\n",
       "       [-0.98019606, -0.19653479, -0.83229075],\n",
       "       [-0.98019606, -0.45975102, -1.10747873],\n",
       "       [-0.98019606,  1.11954637, -1.04632585],\n",
       "       [ 1.02020406, -0.81070599,  0.54364914],\n",
       "       [ 1.02020406,  0.41763642, -0.55710277],\n",
       "       [-0.98019606, -0.81070599,  0.42134337],\n",
       "       [ 1.02020406, -0.10879604, -1.53554892],\n",
       "       [-0.98019606,  0.59311391,  1.27748375],\n",
       "       [-0.98019606, -0.81070599, -0.37364412],\n",
       "       [-0.98019606,  0.06668145,  0.2990376 ],\n",
       "       [-0.98019606,  1.3827626 ,  0.60480202],\n",
       "       [ 1.02020406, -0.89844474, -1.2297845 ],\n",
       "       [ 1.02020406,  1.11954637,  0.48249625],\n",
       "       [-0.98019606,  1.82145632,  1.58324817],\n",
       "       [-0.98019606, -0.19653479, -1.38266671],\n",
       "       [-0.98019606, -0.10879604, -0.40422056],\n",
       "       [ 1.02020406, -0.19653479,  1.36921307],\n",
       "       [-0.98019606,  1.99693381,  0.54364914],\n",
       "       [ 1.02020406,  0.7685914 , -1.16863161],\n",
       "       [-0.98019606, -0.63522851,  0.39076693],\n",
       "       [-0.98019606, -0.89844474,  0.2990376 ],\n",
       "       [ 1.02020406,  1.11954637, -1.29093738],\n",
       "       [ 1.02020406, -1.16166097, -1.53554892],\n",
       "       [ 1.02020406, -0.37201227, -1.5967018 ],\n",
       "       [ 1.02020406,  2.08467255, -0.86286719],\n",
       "       [ 1.02020406, -1.51261594,  0.17673183],\n",
       "       [ 1.02020406, -0.0210573 ,  0.87999   ],\n",
       "       [-0.98019606, -1.51261594, -1.35209027],\n",
       "       [ 1.02020406,  2.08467255,  0.39076693],\n",
       "       [-0.98019606, -1.07392223,  0.57422558],\n",
       "       [ 1.02020406, -0.81070599, -0.37364412],\n",
       "       [ 1.02020406,  0.32989768, -0.70998498],\n",
       "       [-0.98019606,  0.50537516, -0.00672682],\n",
       "       [-0.98019606, -0.37201227,  2.43938854],\n",
       "       [-0.98019606, -0.10879604,  0.20730828],\n",
       "       [-0.98019606, -1.24939971, -0.22076191],\n",
       "       [ 1.02020406,  0.7685914 , -1.47439603],\n",
       "       [ 1.02020406, -0.81070599,  0.57422558],\n",
       "       [ 1.02020406, -1.60035469,  0.36019049],\n",
       "       [-0.98019606,  0.50537516,  0.26846116],\n",
       "       [-0.98019606,  0.32989768, -0.31249124],\n",
       "       [-0.98019606,  1.47050135, -1.10747873],\n",
       "       [-0.98019606,  0.94406888,  1.12460154],\n",
       "       [ 1.02020406,  1.90919507,  2.25592989],\n",
       "       [-0.98019606,  1.99693381,  0.39076693],\n",
       "       [-0.98019606, -1.07392223, -0.46537345],\n",
       "       [-0.98019606, -0.89844474, -1.07690229],\n",
       "       [-0.98019606,  1.90919507, -0.98517296],\n",
       "       [-0.98019606,  0.50537516,  0.2990376 ],\n",
       "       [-0.98019606,  0.32989768,  0.14615539],\n",
       "       [ 1.02020406,  1.99693381,  1.8278597 ],\n",
       "       [-0.98019606,  0.85633014, -0.89344364],\n",
       "       [-0.98019606,  0.41763642, -0.31249124],\n",
       "       [ 1.02020406,  0.50537516, -0.19018547],\n",
       "       [-0.98019606,  0.06668145,  2.31708278],\n",
       "       [-0.98019606, -1.16166097, -0.67940854],\n",
       "       [ 1.02020406, -0.98618348, -1.13805517],\n",
       "       [ 1.02020406, -1.07392223,  0.42134337],\n",
       "       [-0.98019606, -0.81070599,  0.78826068],\n",
       "       [ 1.02020406, -1.16166097, -0.22076191],\n",
       "       [ 1.02020406,  1.03180763, -1.13805517],\n",
       "       [ 1.02020406,  1.03180763,  0.60480202],\n",
       "       [ 1.02020406,  0.50537516,  1.03287221]])"
      ]
     },
     "execution_count": 96,
     "metadata": {},
     "output_type": "execute_result"
    }
   ],
   "source": [
    "x_test"
   ]
  },
  {
   "cell_type": "code",
   "execution_count": 97,
   "id": "3dbb55dc-de91-4218-a9ca-28fff2af58ec",
   "metadata": {},
   "outputs": [
    {
     "data": {
      "text/html": [
       "<style>#sk-container-id-7 {color: black;background-color: white;}#sk-container-id-7 pre{padding: 0;}#sk-container-id-7 div.sk-toggleable {background-color: white;}#sk-container-id-7 label.sk-toggleable__label {cursor: pointer;display: block;width: 100%;margin-bottom: 0;padding: 0.3em;box-sizing: border-box;text-align: center;}#sk-container-id-7 label.sk-toggleable__label-arrow:before {content: \"▸\";float: left;margin-right: 0.25em;color: #696969;}#sk-container-id-7 label.sk-toggleable__label-arrow:hover:before {color: black;}#sk-container-id-7 div.sk-estimator:hover label.sk-toggleable__label-arrow:before {color: black;}#sk-container-id-7 div.sk-toggleable__content {max-height: 0;max-width: 0;overflow: hidden;text-align: left;background-color: #f0f8ff;}#sk-container-id-7 div.sk-toggleable__content pre {margin: 0.2em;color: black;border-radius: 0.25em;background-color: #f0f8ff;}#sk-container-id-7 input.sk-toggleable__control:checked~div.sk-toggleable__content {max-height: 200px;max-width: 100%;overflow: auto;}#sk-container-id-7 input.sk-toggleable__control:checked~label.sk-toggleable__label-arrow:before {content: \"▾\";}#sk-container-id-7 div.sk-estimator input.sk-toggleable__control:checked~label.sk-toggleable__label {background-color: #d4ebff;}#sk-container-id-7 div.sk-label input.sk-toggleable__control:checked~label.sk-toggleable__label {background-color: #d4ebff;}#sk-container-id-7 input.sk-hidden--visually {border: 0;clip: rect(1px 1px 1px 1px);clip: rect(1px, 1px, 1px, 1px);height: 1px;margin: -1px;overflow: hidden;padding: 0;position: absolute;width: 1px;}#sk-container-id-7 div.sk-estimator {font-family: monospace;background-color: #f0f8ff;border: 1px dotted black;border-radius: 0.25em;box-sizing: border-box;margin-bottom: 0.5em;}#sk-container-id-7 div.sk-estimator:hover {background-color: #d4ebff;}#sk-container-id-7 div.sk-parallel-item::after {content: \"\";width: 100%;border-bottom: 1px solid gray;flex-grow: 1;}#sk-container-id-7 div.sk-label:hover label.sk-toggleable__label {background-color: #d4ebff;}#sk-container-id-7 div.sk-serial::before {content: \"\";position: absolute;border-left: 1px solid gray;box-sizing: border-box;top: 0;bottom: 0;left: 50%;z-index: 0;}#sk-container-id-7 div.sk-serial {display: flex;flex-direction: column;align-items: center;background-color: white;padding-right: 0.2em;padding-left: 0.2em;position: relative;}#sk-container-id-7 div.sk-item {position: relative;z-index: 1;}#sk-container-id-7 div.sk-parallel {display: flex;align-items: stretch;justify-content: center;background-color: white;position: relative;}#sk-container-id-7 div.sk-item::before, #sk-container-id-7 div.sk-parallel-item::before {content: \"\";position: absolute;border-left: 1px solid gray;box-sizing: border-box;top: 0;bottom: 0;left: 50%;z-index: -1;}#sk-container-id-7 div.sk-parallel-item {display: flex;flex-direction: column;z-index: 1;position: relative;background-color: white;}#sk-container-id-7 div.sk-parallel-item:first-child::after {align-self: flex-end;width: 50%;}#sk-container-id-7 div.sk-parallel-item:last-child::after {align-self: flex-start;width: 50%;}#sk-container-id-7 div.sk-parallel-item:only-child::after {width: 0;}#sk-container-id-7 div.sk-dashed-wrapped {border: 1px dashed gray;margin: 0 0.4em 0.5em 0.4em;box-sizing: border-box;padding-bottom: 0.4em;background-color: white;}#sk-container-id-7 div.sk-label label {font-family: monospace;font-weight: bold;display: inline-block;line-height: 1.2em;}#sk-container-id-7 div.sk-label-container {text-align: center;}#sk-container-id-7 div.sk-container {/* jupyter's `normalize.less` sets `[hidden] { display: none; }` but bootstrap.min.css set `[hidden] { display: none !important; }` so we also need the `!important` here to be able to override the default hidden behavior on the sphinx rendered scikit-learn.org. See: https://github.com/scikit-learn/scikit-learn/issues/21755 */display: inline-block !important;position: relative;}#sk-container-id-7 div.sk-text-repr-fallback {display: none;}</style><div id=\"sk-container-id-7\" class=\"sk-top-container\"><div class=\"sk-text-repr-fallback\"><pre>SVC()</pre><b>In a Jupyter environment, please rerun this cell to show the HTML representation or trust the notebook. <br />On GitHub, the HTML representation is unable to render, please try loading this page with nbviewer.org.</b></div><div class=\"sk-container\" hidden><div class=\"sk-item\"><div class=\"sk-estimator sk-toggleable\"><input class=\"sk-toggleable__control sk-hidden--visually\" id=\"sk-estimator-id-7\" type=\"checkbox\" checked><label for=\"sk-estimator-id-7\" class=\"sk-toggleable__label sk-toggleable__label-arrow\">SVC</label><div class=\"sk-toggleable__content\"><pre>SVC()</pre></div></div></div></div></div>"
      ],
      "text/plain": [
       "SVC()"
      ]
     },
     "execution_count": 97,
     "metadata": {},
     "output_type": "execute_result"
    }
   ],
   "source": [
    "#apply SVM\n",
    "from sklearn.svm import SVC\n",
    "Class=SVC()\n",
    "Class.fit(x_train,y_train)"
   ]
  },
  {
   "cell_type": "code",
   "execution_count": 98,
   "id": "7ab3a40a-f30f-4b6f-a9a0-83ecb5e2c031",
   "metadata": {},
   "outputs": [],
   "source": [
    "y_pred=Class.predict(x_test)"
   ]
  },
  {
   "cell_type": "code",
   "execution_count": 99,
   "id": "f10eb92d-bf8b-4cbb-8232-f0cf9ffe07fd",
   "metadata": {},
   "outputs": [
    {
     "data": {
      "text/plain": [
       "array([0, 0, 0, 0, 0, 0, 0, 1, 0, 1, 0, 0, 0, 0, 0, 1, 0, 0, 1, 0, 0, 1,\n",
       "       0, 1, 0, 1, 0, 0, 0, 0, 0, 0, 1, 0, 0, 0, 0, 0, 0, 1, 0, 0, 0, 0,\n",
       "       1, 0, 0, 1, 0, 1, 1, 0, 0, 1, 1, 1, 0, 0, 1, 0, 0, 1, 0, 1, 0, 1,\n",
       "       0, 0, 0, 0, 1, 0, 0, 1, 0, 0, 0, 0, 1, 1, 1, 1, 0, 0, 1, 0, 0, 1,\n",
       "       1, 0, 0, 1, 0, 0, 0, 0, 0, 1, 1, 1], dtype=int64)"
      ]
     },
     "execution_count": 99,
     "metadata": {},
     "output_type": "execute_result"
    }
   ],
   "source": [
    "y_pred"
   ]
  },
  {
   "cell_type": "code",
   "execution_count": 100,
   "id": "d7e75f6e-a970-4f3b-985b-550b27a78966",
   "metadata": {},
   "outputs": [
    {
     "data": {
      "text/plain": [
       "array([0, 0, 0, 0, 0, 0, 0, 1, 0, 0, 0, 0, 0, 0, 0, 0, 0, 0, 1, 0, 0, 1,\n",
       "       0, 1, 0, 1, 0, 0, 0, 0, 0, 1, 1, 0, 0, 0, 0, 0, 0, 1, 0, 0, 0, 0,\n",
       "       1, 0, 0, 1, 0, 1, 1, 0, 0, 0, 1, 1, 0, 0, 1, 0, 0, 1, 0, 1, 0, 1,\n",
       "       0, 0, 0, 0, 1, 0, 0, 1, 0, 0, 0, 0, 1, 1, 1, 0, 0, 0, 1, 1, 0, 1,\n",
       "       1, 0, 0, 1, 0, 0, 0, 1, 0, 1, 1, 1], dtype=int64)"
      ]
     },
     "execution_count": 100,
     "metadata": {},
     "output_type": "execute_result"
    }
   ],
   "source": [
    "y_test"
   ]
  },
  {
   "cell_type": "code",
   "execution_count": 101,
   "id": "2c6932ac-c682-441e-bdac-9c1b6e16b580",
   "metadata": {},
   "outputs": [
    {
     "name": "stdout",
     "output_type": "stream",
     "text": [
      "[[64  4]\n",
      " [ 3 29]]\n"
     ]
    }
   ],
   "source": [
    "# EVALUATE the performance of svm model \n",
    "from sklearn.metrics import confusion_matrix\n",
    "print(confusion_matrix(y_test,y_pred))"
   ]
  },
  {
   "cell_type": "code",
   "execution_count": 102,
   "id": "f4d4fa62-ec99-4690-b879-aebb9556964c",
   "metadata": {},
   "outputs": [
    {
     "name": "stdout",
     "output_type": "stream",
     "text": [
      "0.93\n"
     ]
    }
   ],
   "source": [
    "#performance measure => accuracy\n",
    "from sklearn.metrics import accuracy_score\n",
    "AS= accuracy_score(y_test,y_pred)\n",
    "print(AS)"
   ]
  },
  {
   "cell_type": "code",
   "execution_count": 103,
   "id": "1cff1a34-baf8-4611-8d71-b3a06cb30286",
   "metadata": {},
   "outputs": [
    {
     "name": "stdout",
     "output_type": "stream",
     "text": [
      "              precision    recall  f1-score   support\n",
      "\n",
      "           0       0.96      0.94      0.95        68\n",
      "           1       0.88      0.91      0.89        32\n",
      "\n",
      "    accuracy                           0.93       100\n",
      "   macro avg       0.92      0.92      0.92       100\n",
      "weighted avg       0.93      0.93      0.93       100\n",
      "\n"
     ]
    }
   ],
   "source": [
    "# classification report \n",
    "from sklearn.metrics import classification_report \n",
    "print(classification_report(y_test,y_pred))"
   ]
  },
  {
   "cell_type": "markdown",
   "id": "7f0a348b-210a-4ca1-b0b0-080ddb9b5daa",
   "metadata": {},
   "source": [
    "# Naive Bayes algorithm same iphone dataset  "
   ]
  },
  {
   "cell_type": "code",
   "execution_count": 104,
   "id": "1420711e-13d0-4719-8011-9800c5cf142e",
   "metadata": {},
   "outputs": [],
   "source": [
    "#Naive bayes classifier \n",
    "from sklearn.naive_bayes import GaussianNB"
   ]
  },
  {
   "cell_type": "code",
   "execution_count": 105,
   "id": "f2406e85-75a5-4365-b896-3bf39bc72b74",
   "metadata": {},
   "outputs": [
    {
     "data": {
      "text/html": [
       "<style>#sk-container-id-8 {color: black;background-color: white;}#sk-container-id-8 pre{padding: 0;}#sk-container-id-8 div.sk-toggleable {background-color: white;}#sk-container-id-8 label.sk-toggleable__label {cursor: pointer;display: block;width: 100%;margin-bottom: 0;padding: 0.3em;box-sizing: border-box;text-align: center;}#sk-container-id-8 label.sk-toggleable__label-arrow:before {content: \"▸\";float: left;margin-right: 0.25em;color: #696969;}#sk-container-id-8 label.sk-toggleable__label-arrow:hover:before {color: black;}#sk-container-id-8 div.sk-estimator:hover label.sk-toggleable__label-arrow:before {color: black;}#sk-container-id-8 div.sk-toggleable__content {max-height: 0;max-width: 0;overflow: hidden;text-align: left;background-color: #f0f8ff;}#sk-container-id-8 div.sk-toggleable__content pre {margin: 0.2em;color: black;border-radius: 0.25em;background-color: #f0f8ff;}#sk-container-id-8 input.sk-toggleable__control:checked~div.sk-toggleable__content {max-height: 200px;max-width: 100%;overflow: auto;}#sk-container-id-8 input.sk-toggleable__control:checked~label.sk-toggleable__label-arrow:before {content: \"▾\";}#sk-container-id-8 div.sk-estimator input.sk-toggleable__control:checked~label.sk-toggleable__label {background-color: #d4ebff;}#sk-container-id-8 div.sk-label input.sk-toggleable__control:checked~label.sk-toggleable__label {background-color: #d4ebff;}#sk-container-id-8 input.sk-hidden--visually {border: 0;clip: rect(1px 1px 1px 1px);clip: rect(1px, 1px, 1px, 1px);height: 1px;margin: -1px;overflow: hidden;padding: 0;position: absolute;width: 1px;}#sk-container-id-8 div.sk-estimator {font-family: monospace;background-color: #f0f8ff;border: 1px dotted black;border-radius: 0.25em;box-sizing: border-box;margin-bottom: 0.5em;}#sk-container-id-8 div.sk-estimator:hover {background-color: #d4ebff;}#sk-container-id-8 div.sk-parallel-item::after {content: \"\";width: 100%;border-bottom: 1px solid gray;flex-grow: 1;}#sk-container-id-8 div.sk-label:hover label.sk-toggleable__label {background-color: #d4ebff;}#sk-container-id-8 div.sk-serial::before {content: \"\";position: absolute;border-left: 1px solid gray;box-sizing: border-box;top: 0;bottom: 0;left: 50%;z-index: 0;}#sk-container-id-8 div.sk-serial {display: flex;flex-direction: column;align-items: center;background-color: white;padding-right: 0.2em;padding-left: 0.2em;position: relative;}#sk-container-id-8 div.sk-item {position: relative;z-index: 1;}#sk-container-id-8 div.sk-parallel {display: flex;align-items: stretch;justify-content: center;background-color: white;position: relative;}#sk-container-id-8 div.sk-item::before, #sk-container-id-8 div.sk-parallel-item::before {content: \"\";position: absolute;border-left: 1px solid gray;box-sizing: border-box;top: 0;bottom: 0;left: 50%;z-index: -1;}#sk-container-id-8 div.sk-parallel-item {display: flex;flex-direction: column;z-index: 1;position: relative;background-color: white;}#sk-container-id-8 div.sk-parallel-item:first-child::after {align-self: flex-end;width: 50%;}#sk-container-id-8 div.sk-parallel-item:last-child::after {align-self: flex-start;width: 50%;}#sk-container-id-8 div.sk-parallel-item:only-child::after {width: 0;}#sk-container-id-8 div.sk-dashed-wrapped {border: 1px dashed gray;margin: 0 0.4em 0.5em 0.4em;box-sizing: border-box;padding-bottom: 0.4em;background-color: white;}#sk-container-id-8 div.sk-label label {font-family: monospace;font-weight: bold;display: inline-block;line-height: 1.2em;}#sk-container-id-8 div.sk-label-container {text-align: center;}#sk-container-id-8 div.sk-container {/* jupyter's `normalize.less` sets `[hidden] { display: none; }` but bootstrap.min.css set `[hidden] { display: none !important; }` so we also need the `!important` here to be able to override the default hidden behavior on the sphinx rendered scikit-learn.org. See: https://github.com/scikit-learn/scikit-learn/issues/21755 */display: inline-block !important;position: relative;}#sk-container-id-8 div.sk-text-repr-fallback {display: none;}</style><div id=\"sk-container-id-8\" class=\"sk-top-container\"><div class=\"sk-text-repr-fallback\"><pre>GaussianNB()</pre><b>In a Jupyter environment, please rerun this cell to show the HTML representation or trust the notebook. <br />On GitHub, the HTML representation is unable to render, please try loading this page with nbviewer.org.</b></div><div class=\"sk-container\" hidden><div class=\"sk-item\"><div class=\"sk-estimator sk-toggleable\"><input class=\"sk-toggleable__control sk-hidden--visually\" id=\"sk-estimator-id-8\" type=\"checkbox\" checked><label for=\"sk-estimator-id-8\" class=\"sk-toggleable__label sk-toggleable__label-arrow\">GaussianNB</label><div class=\"sk-toggleable__content\"><pre>GaussianNB()</pre></div></div></div></div></div>"
      ],
      "text/plain": [
       "GaussianNB()"
      ]
     },
     "execution_count": 105,
     "metadata": {},
     "output_type": "execute_result"
    }
   ],
   "source": [
    "classifier = GaussianNB()\n",
    "classifier.fit(x_train,y_train)"
   ]
  },
  {
   "cell_type": "code",
   "execution_count": 106,
   "id": "bd744a2b-9c4c-4420-9c33-4d8c523f0021",
   "metadata": {},
   "outputs": [
    {
     "data": {
      "text/plain": [
       "array([0, 0, 0, 0, 0, 0, 0, 1, 0, 1, 0, 0, 0, 0, 0, 1, 0, 0, 1, 0, 0, 1,\n",
       "       0, 1, 0, 1, 0, 0, 0, 0, 0, 0, 1, 0, 0, 0, 0, 0, 0, 1, 0, 0, 0, 0,\n",
       "       1, 0, 0, 1, 0, 1, 1, 0, 0, 1, 1, 0, 0, 0, 1, 0, 0, 1, 0, 0, 0, 1,\n",
       "       0, 0, 0, 0, 1, 0, 0, 1, 0, 0, 0, 0, 1, 1, 1, 1, 0, 0, 1, 0, 0, 1,\n",
       "       1, 0, 0, 1, 0, 0, 0, 0, 0, 1, 1, 1], dtype=int64)"
      ]
     },
     "execution_count": 106,
     "metadata": {},
     "output_type": "execute_result"
    }
   ],
   "source": [
    "y_pred = classifier.predict(x_test)\n",
    "y_pred"
   ]
  },
  {
   "cell_type": "code",
   "execution_count": 107,
   "id": "e65e3569-4967-4b75-b9f8-3e05b45343a7",
   "metadata": {},
   "outputs": [
    {
     "name": "stdout",
     "output_type": "stream",
     "text": [
      "[[64  4]\n",
      " [ 5 27]]\n"
     ]
    }
   ],
   "source": [
    "# to evaluate the performance of the model \n",
    "from sklearn.metrics import confusion_matrix,accuracy_score,precision_score\n",
    "print(confusion_matrix(y_test,y_pred))"
   ]
  },
  {
   "cell_type": "code",
   "execution_count": 108,
   "id": "d2bdcbb2-232e-426f-b5f8-c817600feac7",
   "metadata": {},
   "outputs": [
    {
     "name": "stdout",
     "output_type": "stream",
     "text": [
      "0.91\n"
     ]
    }
   ],
   "source": [
    "print(accuracy_score(y_test,y_pred))"
   ]
  },
  {
   "cell_type": "code",
   "execution_count": 109,
   "id": "40cc45cf-51e9-4d66-abca-7f10c4ed3603",
   "metadata": {},
   "outputs": [
    {
     "name": "stdout",
     "output_type": "stream",
     "text": [
      "0.8709677419354839\n"
     ]
    }
   ],
   "source": [
    "# precision =tp/(tp+fp)\n",
    "print(precision_score(y_test,y_pred))"
   ]
  },
  {
   "cell_type": "code",
   "execution_count": 110,
   "id": "520e586e-ccb9-4c6e-b8b4-ed202ab8e11e",
   "metadata": {},
   "outputs": [
    {
     "data": {
      "text/plain": [
       "['Naive_bayes.sav']"
      ]
     },
     "execution_count": 110,
     "metadata": {},
     "output_type": "execute_result"
    }
   ],
   "source": [
    "# save the model\n",
    "import joblib \n",
    "joblib.dump(classifier,'Naive_bayes.sav')"
   ]
  },
  {
   "cell_type": "code",
   "execution_count": null,
   "id": "1e4e8409-3663-420f-84a9-faab85e8af2f",
   "metadata": {},
   "outputs": [],
   "source": []
  }
 ],
 "metadata": {
  "kernelspec": {
   "display_name": "Python 3 (ipykernel)",
   "language": "python",
   "name": "python3"
  },
  "language_info": {
   "codemirror_mode": {
    "name": "ipython",
    "version": 3
   },
   "file_extension": ".py",
   "mimetype": "text/x-python",
   "name": "python",
   "nbconvert_exporter": "python",
   "pygments_lexer": "ipython3",
   "version": "3.11.7"
  }
 },
 "nbformat": 4,
 "nbformat_minor": 5
}
